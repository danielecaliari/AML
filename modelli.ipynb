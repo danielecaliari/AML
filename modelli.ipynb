{
  "nbformat": 4,
  "nbformat_minor": 0,
  "metadata": {
    "colab": {
      "name": "modelli.ipynb",
      "provenance": [],
      "collapsed_sections": [],
      "include_colab_link": true
    },
    "kernelspec": {
      "display_name": "Python 3",
      "name": "python3"
    }
  },
  "cells": [
    {
      "cell_type": "markdown",
      "metadata": {
        "id": "view-in-github",
        "colab_type": "text"
      },
      "source": [
        "<a href=\"https://colab.research.google.com/github/danielecaliari/AML/blob/main/modelli.ipynb\" target=\"_parent\"><img src=\"https://colab.research.google.com/assets/colab-badge.svg\" alt=\"Open In Colab\"/></a>"
      ]
    },
    {
      "cell_type": "code",
      "metadata": {
        "id": "DGu1cWhwUmVp"
      },
      "source": [
        "import pandas as pd\n",
        "import numpy as np\n",
        "import matplotlib as mpl\n",
        "import matplotlib.pyplot as plt\n",
        "from tensorflow.keras.models import Sequential\n",
        "from tensorflow.keras.layers import BatchNormalization\n",
        "from tensorflow.keras.layers import Conv2D\n",
        "from tensorflow.keras.layers import MaxPooling2D\n",
        "from tensorflow.keras.layers import Activation\n",
        "from tensorflow.keras.layers import Dropout\n",
        "from tensorflow.keras.layers import Dense\n",
        "from tensorflow.keras.layers import Flatten\n",
        "from tensorflow.keras.layers import Input\n",
        "from tensorflow.keras.models import Model\n",
        "from sklearn.model_selection import train_test_split\n",
        "from scipy import sparse\n",
        "from tensorflow import keras\n",
        "from keras import backend as K"
      ],
      "execution_count": 1,
      "outputs": []
    },
    {
      "cell_type": "code",
      "metadata": {
        "colab": {
          "base_uri": "https://localhost:8080/"
        },
        "id": "wCfT6ih7UxsY",
        "outputId": "e0743306-8a50-4eae-ac49-eca6dfa13864"
      },
      "source": [
        "from google.colab import drive\n",
        "drive.mount('/content/drive', force_remount=True)\n",
        "root_dir = \"/content/drive/MyDrive/\"\n",
        "base_dir = root_dir + 'progetto_AML/'"
      ],
      "execution_count": 3,
      "outputs": [
        {
          "output_type": "stream",
          "text": [
            "Mounted at /content/drive\n"
          ],
          "name": "stdout"
        }
      ]
    },
    {
      "cell_type": "code",
      "metadata": {
        "id": "i0zNqv_cjeLu"
      },
      "source": [
        "label = pd.read_csv(base_dir + 'label.csv')\n",
        "label = label['price'].values"
      ],
      "execution_count": 4,
      "outputs": []
    },
    {
      "cell_type": "markdown",
      "metadata": {
        "id": "4LSSfeTbwws9"
      },
      "source": [
        "Regression without embeddings"
      ]
    },
    {
      "cell_type": "code",
      "metadata": {
        "id": "2q8YsEuJUyYc"
      },
      "source": [
        "from scipy import sparse\n",
        "train = sparse.load_npz(base_dir + 'train.npz')\n",
        "#test = sparse.load_npz(base_dir + 'test.npz')"
      ],
      "execution_count": null,
      "outputs": []
    },
    {
      "cell_type": "code",
      "metadata": {
        "id": "u5wBJJwTMPyj"
      },
      "source": [
        "def root_mean_squared_error(y_true, y_pred):\n",
        "        return K.sqrt(K.mean(K.square(y_pred - y_true))) "
      ],
      "execution_count": 27,
      "outputs": []
    },
    {
      "cell_type": "code",
      "metadata": {
        "id": "_mozGIzyVMQX"
      },
      "source": [
        "def create_mlp(dim):\n",
        "\t# define our MLP network\n",
        "  model = Sequential()\n",
        "  model.add(Dense(128, input_dim=dim, activation=\"relu\"))\n",
        "  model.add(Dense(64, activation=\"relu\"))\n",
        "  model.add(Dense(32, activation=\"relu\"))\n",
        "  model.add(Dense(1, activation=\"linear\"))\n",
        "  return model"
      ],
      "execution_count": null,
      "outputs": []
    },
    {
      "cell_type": "markdown",
      "metadata": {
        "id": "qTKhUuHsWg3T"
      },
      "source": [
        "Split in training & validation & test"
      ]
    },
    {
      "cell_type": "code",
      "metadata": {
        "id": "BkfJBVWKV4hg"
      },
      "source": [
        "(train, test, label_train, label_test) = train_test_split(train , label , test_size=0.10, random_state=42)\n",
        "\n",
        "(train, validation, label_train, label_validation) = train_test_split(train , label_train , test_size=0.25, random_state=42)"
      ],
      "execution_count": null,
      "outputs": []
    },
    {
      "cell_type": "code",
      "metadata": {
        "id": "6D-9Dhm__0NF"
      },
      "source": [
        "model = create_mlp(train.shape[1])"
      ],
      "execution_count": null,
      "outputs": []
    },
    {
      "cell_type": "code",
      "metadata": {
        "colab": {
          "base_uri": "https://localhost:8080/"
        },
        "id": "zv1_iw1q9f3v",
        "outputId": "c8efa835-7ea8-4472-e054-8371327e8657"
      },
      "source": [
        "model.summary()"
      ],
      "execution_count": null,
      "outputs": [
        {
          "output_type": "stream",
          "text": [
            "Model: \"sequential_1\"\n",
            "_________________________________________________________________\n",
            "Layer (type)                 Output Shape              Param #   \n",
            "=================================================================\n",
            "dense_4 (Dense)              (None, 128)               5863936   \n",
            "_________________________________________________________________\n",
            "dense_5 (Dense)              (None, 64)                8256      \n",
            "_________________________________________________________________\n",
            "dense_6 (Dense)              (None, 32)                2080      \n",
            "_________________________________________________________________\n",
            "dense_7 (Dense)              (None, 1)                 33        \n",
            "=================================================================\n",
            "Total params: 5,874,305\n",
            "Trainable params: 5,874,305\n",
            "Non-trainable params: 0\n",
            "_________________________________________________________________\n"
          ],
          "name": "stdout"
        }
      ]
    },
    {
      "cell_type": "code",
      "metadata": {
        "colab": {
          "base_uri": "https://localhost:8080/"
        },
        "id": "k1L3zVBaWgE8",
        "outputId": "22bb6d02-92fb-41ea-bc41-3624b7a13aa8"
      },
      "source": [
        "opt = keras.optimizers.RMSprop(0.00001)\n",
        "model.compile(loss=root_mean_squared_error, optimizer=opt)\n",
        "n_epochs = 20\n",
        "\n",
        "history = model.fit(x=train, y=label_train, validation_data=(validation, label_validation), epochs=n_epochs, batch_size=256)"
      ],
      "execution_count": null,
      "outputs": [
        {
          "output_type": "stream",
          "text": [
            "Epoch 1/20\n",
            "3907/3907 [==============================] - 167s 42ms/step - loss: 2.0855 - val_loss: 0.5982\n",
            "Epoch 2/20\n",
            "3907/3907 [==============================] - 163s 42ms/step - loss: 0.5651 - val_loss: 0.5166\n",
            "Epoch 3/20\n",
            "3907/3907 [==============================] - 166s 42ms/step - loss: 0.5086 - val_loss: 0.4965\n",
            "Epoch 4/20\n",
            "3907/3907 [==============================] - 164s 42ms/step - loss: 0.4916 - val_loss: 0.4869\n",
            "Epoch 5/20\n",
            "3907/3907 [==============================] - 163s 42ms/step - loss: 0.4819 - val_loss: 0.4808\n",
            "Epoch 6/20\n",
            "3907/3907 [==============================] - 163s 41ms/step - loss: 0.4748 - val_loss: 0.4760\n",
            "Epoch 7/20\n",
            "3907/3907 [==============================] - 166s 42ms/step - loss: 0.4698 - val_loss: 0.4722\n",
            "Epoch 8/20\n",
            "3907/3907 [==============================] - 163s 42ms/step - loss: 0.4658 - val_loss: 0.4690\n",
            "Epoch 9/20\n",
            "3907/3907 [==============================] - 162s 41ms/step - loss: 0.4617 - val_loss: 0.4662\n",
            "Epoch 10/20\n",
            "3907/3907 [==============================] - 164s 42ms/step - loss: 0.4586 - val_loss: 0.4637\n",
            "Epoch 11/20\n",
            "3907/3907 [==============================] - 164s 42ms/step - loss: 0.4549 - val_loss: 0.4615\n",
            "Epoch 12/20\n",
            "3907/3907 [==============================] - 164s 42ms/step - loss: 0.4520 - val_loss: 0.4593\n",
            "Epoch 13/20\n",
            "3907/3907 [==============================] - 163s 42ms/step - loss: 0.4497 - val_loss: 0.4574\n",
            "Epoch 14/20\n",
            "3907/3907 [==============================] - 166s 42ms/step - loss: 0.4466 - val_loss: 0.4560\n",
            "Epoch 15/20\n",
            "3907/3907 [==============================] - 163s 41ms/step - loss: 0.4436 - val_loss: 0.4542\n",
            "Epoch 16/20\n",
            "3907/3907 [==============================] - 164s 42ms/step - loss: 0.4416 - val_loss: 0.4524\n",
            "Epoch 17/20\n",
            "3907/3907 [==============================] - 163s 42ms/step - loss: 0.4386 - val_loss: 0.4509\n",
            "Epoch 18/20\n",
            "3907/3907 [==============================] - 166s 42ms/step - loss: 0.4357 - val_loss: 0.4494\n",
            "Epoch 19/20\n",
            "3907/3907 [==============================] - 163s 41ms/step - loss: 0.4334 - val_loss: 0.4482\n",
            "Epoch 20/20\n",
            "3907/3907 [==============================] - 163s 41ms/step - loss: 0.4317 - val_loss: 0.4469\n"
          ],
          "name": "stdout"
        }
      ]
    },
    {
      "cell_type": "code",
      "metadata": {
        "id": "AaD941nYGNKT"
      },
      "source": [
        "def plot_history(network_history, n_epochs):\n",
        "    x_plot = list(range(1,n_epochs))\n",
        "    plt.figure()\n",
        "    plt.xlabel('Epochs')\n",
        "    plt.ylabel('Loss')\n",
        "    plt.plot(x_plot, network_history.history['loss'][1:])\n",
        "    plt.plot(x_plot, network_history.history['val_loss'][1:])\n",
        "    plt.legend(['Training', 'Validation'])"
      ],
      "execution_count": 74,
      "outputs": []
    },
    {
      "cell_type": "code",
      "metadata": {
        "colab": {
          "base_uri": "https://localhost:8080/",
          "height": 279
        },
        "id": "f6-7alLgG5k_",
        "outputId": "5d9d8ff7-8d6b-47af-a63c-88c23c311eac"
      },
      "source": [
        "plot_history(history, n_epochs)"
      ],
      "execution_count": null,
      "outputs": [
        {
          "output_type": "display_data",
          "data": {
            "image/png": "[encoded data removed]",
            "text/plain": [
              "<Figure size 432x288 with 1 Axes>"
            ]
          },
          "metadata": {
            "tags": [],
            "needs_background": "light"
          }
        }
      ]
    },
    {
      "cell_type": "markdown",
      "metadata": {
        "id": "Fso9o50EYoa2"
      },
      "source": [
        "Prediction"
      ]
    },
    {
      "cell_type": "code",
      "metadata": {
        "id": "r7NHFxSIXWeu"
      },
      "source": [
        "preds = model.predict(test)"
      ],
      "execution_count": null,
      "outputs": []
    },
    {
      "cell_type": "code",
      "metadata": {
        "colab": {
          "base_uri": "https://localhost:8080/"
        },
        "id": "38XuQ-dJkCvV",
        "outputId": "a3c15a03-c837-45d7-e930-84632f1c763e"
      },
      "source": [
        "preds"
      ],
      "execution_count": null,
      "outputs": [
        {
          "output_type": "execute_result",
          "data": {
            "text/plain": [
              "array([[2.097319 ],\n",
              "       [4.093194 ],\n",
              "       [3.0012586],\n",
              "       ...,\n",
              "       [3.0855687],\n",
              "       [3.5047834],\n",
              "       [2.4942253]], dtype=float32)"
            ]
          },
          "metadata": {
            "tags": []
          },
          "execution_count": 33
        }
      ]
    },
    {
      "cell_type": "code",
      "metadata": {
        "id": "AeSm-kNxLca-"
      },
      "source": [
        "#final_preds = np.expm1(preds)\n",
        "import math\n",
        "from sklearn.metrics import mean_squared_error\n",
        "final_score_model1 = math.sqrt(mean_squared_error(label_test, preds))"
      ],
      "execution_count": null,
      "outputs": []
    },
    {
      "cell_type": "code",
      "metadata": {
        "colab": {
          "base_uri": "https://localhost:8080/"
        },
        "id": "NqPUWfMNlzua",
        "outputId": "c8a66695-ef77-4acc-b00e-bfcad8da0213"
      },
      "source": [
        "final_score_model1"
      ],
      "execution_count": null,
      "outputs": [
        {
          "output_type": "execute_result",
          "data": {
            "text/plain": [
              "0.445868244741334"
            ]
          },
          "metadata": {
            "tags": []
          },
          "execution_count": 35
        }
      ]
    },
    {
      "cell_type": "markdown",
      "metadata": {
        "id": "4O9QrvRpZ_sH"
      },
      "source": [
        "Word embedding"
      ]
    },
    {
      "cell_type": "code",
      "metadata": {
        "id": "5Z2xSMribc8o"
      },
      "source": [
        "#train non text features\n",
        "train_emb = sparse.load_npz(base_dir + 'train_emb.npz')\n",
        "#test non text features\n",
        "#test_emb = sparse.load_npz(base_dir + 'test_emb.npz')"
      ],
      "execution_count": 6,
      "outputs": []
    },
    {
      "cell_type": "code",
      "metadata": {
        "colab": {
          "base_uri": "https://localhost:8080/"
        },
        "id": "OBZkd90ScIyb",
        "outputId": "35489e6a-69b3-4bb8-9424-e02e30a1e264"
      },
      "source": [
        "#train for embeddings\n",
        "train_names = pd.read_csv(base_dir + 'names.csv', index_col=0)['name']\n",
        "train_descriptions = pd.read_csv(base_dir + 'descriptions.csv', index_col=0)['item_description'].astype(str)"
      ],
      "execution_count": 7,
      "outputs": [
        {
          "output_type": "stream",
          "text": [
            "/usr/local/lib/python3.6/dist-packages/numpy/lib/arraysetops.py:580: FutureWarning: elementwise comparison failed; returning scalar instead, but in the future will perform elementwise comparison\n",
            "  mask |= (ar1 == a)\n"
          ],
          "name": "stderr"
        }
      ]
    },
    {
      "cell_type": "code",
      "metadata": {
        "id": "5R-HYHg2yoA5"
      },
      "source": [
        "\n",
        "#keep 10% of train_emb as test\n",
        "(train_emb, test_emb, label_train_emb, label_test_emb) = train_test_split(train_emb, label, test_size=0.10, shuffle= False)\n",
        "#25% of train_emb for validation\n",
        "(train_emb, validation_emb, label_train_emb, label_validation_emb) = train_test_split(train_emb, label_train_emb, test_size=0.25, shuffle= False)\n",
        "\n",
        "#keep 10% of names as test\n",
        "(train_names, test_names) = train_test_split(train_names, test_size=0.10, shuffle= False) \n",
        "(train_names, train_names_validation) = train_test_split(train_names, test_size=0.25, shuffle= False) \n",
        "#keep 10% of descriptions as test\n",
        "(train_descriptions, test_descriptions) = train_test_split(train_descriptions, test_size=0.10, shuffle= False)\n",
        "(train_descriptions, train_descriptions_validation) = train_test_split(train_descriptions, test_size=0.25, shuffle= False)"
      ],
      "execution_count": 8,
      "outputs": []
    },
    {
      "cell_type": "markdown",
      "metadata": {
        "id": "yi-fGAugmf45"
      },
      "source": [
        "TOKENIZE"
      ]
    },
    {
      "cell_type": "code",
      "metadata": {
        "id": "j4QOGLh92kK8"
      },
      "source": [
        "def make_list(input_list):\n",
        "  output_list = []\n",
        "  for n in input_list:\n",
        "    output_list.append(n)\n",
        "  return output_list"
      ],
      "execution_count": 9,
      "outputs": []
    },
    {
      "cell_type": "code",
      "metadata": {
        "id": "wk8XffKNcgsq"
      },
      "source": [
        "names = make_list(train_names)\n",
        "descriptions = make_list(train_descriptions)\n",
        "names_validation = make_list(train_names_validation)\n",
        "descriptions_validation = make_list(train_descriptions_validation)\n",
        "names_test = make_list(test_names)\n",
        "descriptions_test = make_list(test_descriptions)"
      ],
      "execution_count": 10,
      "outputs": []
    },
    {
      "cell_type": "code",
      "metadata": {
        "id": "ymwfjvtxp4R9"
      },
      "source": [
        "from keras.preprocessing.text import Tokenizer\n",
        "from keras.preprocessing.sequence import pad_sequences\n",
        "\n",
        "def tokenize(text, nb_words):\n",
        "  tokenizer = Tokenizer(nb_words=nb_words)\n",
        "  tokenizer.fit_on_texts(text)\n",
        "  sequences = tokenizer.texts_to_sequences(text)\n",
        "\n",
        "  word_index = tokenizer.word_index\n",
        "  print('Found %s unique tokens.' % len(word_index))\n",
        "\n",
        "  return (word_index, pad_sequences(sequences, maxlen=20))\n"
      ],
      "execution_count": 11,
      "outputs": []
    },
    {
      "cell_type": "code",
      "metadata": {
        "colab": {
          "base_uri": "https://localhost:8080/"
        },
        "id": "fn2hflhEiDg1",
        "outputId": "5a1a23b2-3f99-4f7a-ea74-cc4b5072c6ec"
      },
      "source": [
        "#tokenize train names\n",
        "word_index_names, names_data = tokenize(names, 100000)\n",
        "#tokenize train descriptions\n",
        "word_index_descriptions, descriptions_data = tokenize(descriptions, 100000)\n",
        "#tokenize validation names\n",
        "word_index_names_val, names_data_validation = tokenize(names_validation, 100000)\n",
        "#tokenize validation descriptions\n",
        "word_index_descriptions_val, descriptions_data_validation = tokenize(descriptions_validation, 100000)\n",
        "#tokenize test names\n",
        "word_index_names_test, names_data_test = tokenize(names_test, 100000)\n",
        "#tokenize test descriptions\n",
        "word_index_descriptions_test, descriptions_data_test = tokenize(descriptions_test, 100000)"
      ],
      "execution_count": 17,
      "outputs": [
        {
          "output_type": "stream",
          "text": [
            "/usr/local/lib/python3.6/dist-packages/keras_preprocessing/text.py:180: UserWarning: The `nb_words` argument in `Tokenizer` has been renamed `num_words`.\n",
            "  warnings.warn('The `nb_words` argument in `Tokenizer` '\n"
          ],
          "name": "stderr"
        },
        {
          "output_type": "stream",
          "text": [
            "Found 94718 unique tokens.\n",
            "Found 131435 unique tokens.\n",
            "Found 51380 unique tokens.\n",
            "Found 75569 unique tokens.\n",
            "Found 33165 unique tokens.\n",
            "Found 51720 unique tokens.\n"
          ],
          "name": "stdout"
        }
      ]
    },
    {
      "cell_type": "markdown",
      "metadata": {
        "id": "eRU1egJrOJk1"
      },
      "source": [
        "MODEL"
      ]
    },
    {
      "cell_type": "code",
      "metadata": {
        "id": "QPjgdQoqaBR6"
      },
      "source": [
        "def embedding_model():\n",
        "  num_words_name = len(word_index_names)  # Size of vocabulary obtained when preprocessing text data\n",
        "  num_words_description = len(word_index_descriptions)  # Size of vocabulary obtained when preprocessing text data\n",
        "\n",
        "  #input layers\n",
        "  name_input = keras.Input(shape=(names_data.shape[1]), name=\"name\")  # Variable-length sequence of ints\n",
        "  description_input = keras.Input(shape=(descriptions_data.shape[1]), name=\"description\")  # Variable-length sequence of ints\n",
        "  other_features_input = keras.Input(shape=(train_emb.shape[1],), name=\"other_features_input\")\n",
        "\n",
        "  #embedding\n",
        "  # Embed each word in the title into a 64-dimensional vector\n",
        "  name_features = keras.layers.Embedding(num_words_name + 1, 64)(name_input)\n",
        "  # Embed each word in the text into a 64-dimensional vector\n",
        "  description_features = keras.layers.Embedding(num_words_description + 1, 128)(description_input)\n",
        "\n",
        "  #flatten\n",
        "  name_features_flattened = keras.layers.Flatten()(name_features)\n",
        "  description_features_flattened = keras.layers.Flatten()(description_features)\n",
        "\n",
        "  other_features_relu = keras.layers.Dense(128, activation=\"relu\", kernel_regularizer=keras.regularizers.l2(0.001))(other_features_input)\n",
        "\n",
        "  # Merge all available features into a single large vector via concatenation\n",
        "  x = keras.layers.concatenate([name_features_flattened, description_features_flattened, other_features_relu])\n",
        "\n",
        "\n",
        "  # Stick a logistic regression for priority prediction on top of the features\n",
        "  price_dense = keras.layers.Dense(128, activation=\"relu\", name=\"price1\")(x)\n",
        "  drop = keras.layers.Dropout(0.2)(price_dense)\n",
        "  price_dense2 = keras.layers.Dense(64, activation=\"relu\", name=\"price2\", kernel_regularizer=keras.regularizers.l2(0.001))(drop)\n",
        "  price_dense3 = keras.layers.Dense(32, activation=\"relu\", name=\"price2\", kernel_regularizer=keras.regularizers.l2(0.001))(price_dense2)\n",
        "  price_pred = keras.layers.Dense(1, activation=\"linear\", name=\"price\",kernel_regularizer=keras.regularizers.l2(0.001))(price_dense2)\n",
        "  # Instantiate an end-to-end model predicting both priority and department\n",
        "  model = keras.Model(\n",
        "      inputs=[name_input, description_input, other_features_input],\n",
        "      outputs=[price_pred],\n",
        "  )\n",
        "  return model"
      ],
      "execution_count": 89,
      "outputs": []
    },
    {
      "cell_type": "code",
      "metadata": {
        "id": "0UYEXYkrsWuk"
      },
      "source": [
        "embedding_model = embedding_model()"
      ],
      "execution_count": 90,
      "outputs": []
    },
    {
      "cell_type": "code",
      "metadata": {
        "colab": {
          "base_uri": "https://localhost:8080/",
          "height": 865
        },
        "id": "fD-UEI3QurKF",
        "outputId": "77dd0d24-c3a5-4b41-f56d-62dce1d3a53b"
      },
      "source": [
        "keras.utils.plot_model(embedding_model, \"my_first_model_with_shape_info.png\", show_shapes=True)"
      ],
      "execution_count": 42,
      "outputs": [
        {
          "output_type": "execute_result",
          "data": {
            "image/png": "[encoded data removed]",
            "text/plain": [
              "<IPython.core.display.Image object>"
            ]
          },
          "metadata": {
            "tags": []
          },
          "execution_count": 42
        }
      ]
    },
    {
      "cell_type": "code",
      "metadata": {
        "colab": {
          "base_uri": "https://localhost:8080/"
        },
        "id": "zdf703XOI6u_",
        "outputId": "770beb45-3ba9-4e8f-bd94-52b5d73c51e8"
      },
      "source": [
        "embedding_model.summary()"
      ],
      "execution_count": 58,
      "outputs": [
        {
          "output_type": "stream",
          "text": [
            "Model: \"model_1\"\n",
            "__________________________________________________________________________________________________\n",
            "Layer (type)                    Output Shape         Param #     Connected to                     \n",
            "==================================================================================================\n",
            "name (InputLayer)               [(None, 20)]         0                                            \n",
            "__________________________________________________________________________________________________\n",
            "description (InputLayer)        [(None, 20)]         0                                            \n",
            "__________________________________________________________________________________________________\n",
            "embedding_2 (Embedding)         (None, 20, 64)       6062016     name[0][0]                       \n",
            "__________________________________________________________________________________________________\n",
            "embedding_3 (Embedding)         (None, 20, 128)      16823808    description[0][0]                \n",
            "__________________________________________________________________________________________________\n",
            "other_features_input (InputLaye [(None, 5811)]       0                                            \n",
            "__________________________________________________________________________________________________\n",
            "flatten_2 (Flatten)             (None, 1280)         0           embedding_2[0][0]                \n",
            "__________________________________________________________________________________________________\n",
            "flatten_3 (Flatten)             (None, 2560)         0           embedding_3[0][0]                \n",
            "__________________________________________________________________________________________________\n",
            "dense_1 (Dense)                 (None, 128)          743936      other_features_input[0][0]       \n",
            "__________________________________________________________________________________________________\n",
            "concatenate_1 (Concatenate)     (None, 3968)         0           flatten_2[0][0]                  \n",
            "                                                                 flatten_3[0][0]                  \n",
            "                                                                 dense_1[0][0]                    \n",
            "__________________________________________________________________________________________________\n",
            "price1 (Dense)                  (None, 128)          508032      concatenate_1[0][0]              \n",
            "__________________________________________________________________________________________________\n",
            "dropout_1 (Dropout)             (None, 128)          0           price1[0][0]                     \n",
            "__________________________________________________________________________________________________\n",
            "price2 (Dense)                  (None, 64)           8256        dropout_1[0][0]                  \n",
            "__________________________________________________________________________________________________\n",
            "price (Dense)                   (None, 1)            65          price2[0][0]                     \n",
            "==================================================================================================\n",
            "Total params: 24,146,113\n",
            "Trainable params: 24,146,113\n",
            "Non-trainable params: 0\n",
            "__________________________________________________________________________________________________\n"
          ],
          "name": "stdout"
        }
      ]
    },
    {
      "cell_type": "code",
      "metadata": {
        "id": "TPxnB2IyrLgi"
      },
      "source": [
        "embedding_model.compile(\n",
        "    optimizer=keras.optimizers.RMSprop(0.00001),\n",
        "    loss={\n",
        "        \"price\": root_mean_squared_error,\n",
        "    }\n",
        ")"
      ],
      "execution_count": 91,
      "outputs": []
    },
    {
      "cell_type": "code",
      "metadata": {
        "colab": {
          "base_uri": "https://localhost:8080/"
        },
        "id": "Sksq585frgkj",
        "outputId": "9136f822-26e9-4efb-8928-9cb8f9e679b9"
      },
      "source": [
        "n_epochs = 4\n",
        "history_emb = embedding_model.fit(\n",
        "    {\"name\": names_data, \"description\": descriptions_data, \"other_features_input\": train_emb},\n",
        "    {\"price\": label_train_emb},\n",
        "    validation_data=((names_data_validation, descriptions_data_validation, validation_emb), label_validation_emb),\n",
        "    epochs=n_epochs,\n",
        "    batch_size=256,\n",
        ")"
      ],
      "execution_count": 92,
      "outputs": [
        {
          "output_type": "stream",
          "text": [
            "Epoch 1/4\n",
            "3907/3907 [==============================] - 511s 130ms/step - loss: 1.5743 - val_loss: 0.6830\n",
            "Epoch 2/4\n",
            "3907/3907 [==============================] - 533s 136ms/step - loss: 0.6510 - val_loss: 0.6435\n",
            "Epoch 3/4\n",
            "3907/3907 [==============================] - 542s 138ms/step - loss: 0.5924 - val_loss: 0.6334\n",
            "Epoch 4/4\n",
            "3907/3907 [==============================] - 539s 138ms/step - loss: 0.5650 - val_loss: 0.6341\n"
          ],
          "name": "stdout"
        }
      ]
    },
    {
      "cell_type": "code",
      "metadata": {
        "id": "RVhab6C2TfQC",
        "colab": {
          "base_uri": "https://localhost:8080/",
          "height": 279
        },
        "outputId": "1b419c43-45b0-4d6f-8556-e2b8a7ffe5cc"
      },
      "source": [
        "plot_history(history_emb, n_epochs)"
      ],
      "execution_count": 93,
      "outputs": [
        {
          "output_type": "display_data",
          "data": {
            "image/png": "[encoded data removed]",
            "text/plain": [
              "<Figure size 432x288 with 1 Axes>"
            ]
          },
          "metadata": {
            "tags": [],
            "needs_background": "light"
          }
        }
      ]
    },
    {
      "cell_type": "code",
      "metadata": {
        "id": "hOn-YhnH57JD"
      },
      "source": [
        "res = embedding_model.predict((names_data_test,descriptions_data_test,test_emb))"
      ],
      "execution_count": 94,
      "outputs": []
    },
    {
      "cell_type": "code",
      "metadata": {
        "id": "YTdHdLz8S0QU"
      },
      "source": [
        "final_score_model2 = math.sqrt(mean_squared_error(label_test_emb, res))"
      ],
      "execution_count": 95,
      "outputs": []
    },
    {
      "cell_type": "code",
      "metadata": {
        "colab": {
          "base_uri": "https://localhost:8080/"
        },
        "id": "nRvDfIFgnUV7",
        "outputId": "d6497cdb-7be1-4e23-ee64-1ae47e4112e9"
      },
      "source": [
        "final_score_model2"
      ],
      "execution_count": 96,
      "outputs": [
        {
          "output_type": "execute_result",
          "data": {
            "text/plain": [
              "0.6006056825864389"
            ]
          },
          "metadata": {
            "tags": []
          },
          "execution_count": 96
        }
      ]
    },
    {
      "cell_type": "code",
      "metadata": {
        "id": "l5d7MGruGA8R"
      },
      "source": [
        "K.clear_session()"
      ],
      "execution_count": 86,
      "outputs": []
    }
  ]
}