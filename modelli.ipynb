{
  "nbformat": 4,
  "nbformat_minor": 0,
  "metadata": {
    "colab": {
      "name": "modelli.ipynb",
      "provenance": [],
      "authorship_tag": "ABX9TyOl4RjqJvR9RlE0h3uWJM+c",
      "include_colab_link": true
    },
    "kernelspec": {
      "name": "python3",
      "display_name": "Python 3"
    }
  },
  "cells": [
    {
      "cell_type": "markdown",
      "metadata": {
        "id": "view-in-github",
        "colab_type": "text"
      },
      "source": [
        "<a href=\"https://colab.research.google.com/github/danielecaliari/AML/blob/main/modelli.ipynb\" target=\"_parent\"><img src=\"https://colab.research.google.com/assets/colab-badge.svg\" alt=\"Open In Colab\"/></a>"
      ]
    },
    {
      "cell_type": "code",
      "metadata": {
        "id": "DGu1cWhwUmVp"
      },
      "source": [
        "import pandas as pd\n",
        "import numpy as np\n",
        "import matplotlib as mpl\n",
        "import matplotlib.pyplot as plt\n",
        "from tensorflow.keras.models import Sequential\n",
        "from tensorflow.keras.layers import BatchNormalization\n",
        "from tensorflow.keras.layers import Conv2D\n",
        "from tensorflow.keras.layers import MaxPooling2D\n",
        "from tensorflow.keras.layers import Activation\n",
        "from tensorflow.keras.layers import Dropout\n",
        "from tensorflow.keras.layers import Dense\n",
        "from tensorflow.keras.layers import Flatten\n",
        "from tensorflow.keras.layers import Input\n",
        "from tensorflow.keras.models import Model\n",
        "from sklearn.model_selection import train_test_split\n"
      ],
      "execution_count": 9,
      "outputs": []
    },
    {
      "cell_type": "code",
      "metadata": {
        "colab": {
          "base_uri": "https://localhost:8080/"
        },
        "id": "wCfT6ih7UxsY",
        "outputId": "6ece55cc-673a-4e57-9095-a62d23c41498"
      },
      "source": [
        "from google.colab import drive\n",
        "drive.mount('/content/drive', force_remount=True)\n",
        "root_dir = \"/content/drive/MyDrive/\"\n",
        "base_dir = root_dir + 'progetto_AML/'"
      ],
      "execution_count": 10,
      "outputs": [
        {
          "output_type": "stream",
          "text": [
            "Mounted at /content/drive\n"
          ],
          "name": "stdout"
        }
      ]
    },
    {
      "cell_type": "code",
      "metadata": {
        "id": "2q8YsEuJUyYc"
      },
      "source": [
        "from scipy import sparse\n",
        "train = sparse.load_npz(base_dir + 'train.npz')\n",
        "test = sparse.load_npz(base_dir + 'test.npz')"
      ],
      "execution_count": 11,
      "outputs": []
    },
    {
      "cell_type": "code",
      "metadata": {
        "id": "_mozGIzyVMQX"
      },
      "source": [
        "def create_mlp(dim):\n",
        "\t# define our MLP network\n",
        "\tmodel = Sequential()\n",
        "\tmodel.add(Dense(8, input_dim=dim, activation=\"relu\"))\n",
        "\tmodel.add(Dense(4, activation=\"relu\"))\n",
        "  model.add(Dense(1, activation=\"linear\"))\n",
        "  return model"
      ],
      "execution_count": 7,
      "outputs": []
    },
    {
      "cell_type": "markdown",
      "metadata": {
        "id": "qTKhUuHsWg3T"
      },
      "source": [
        "Split in training & validation"
      ]
    },
    {
      "cell_type": "code",
      "metadata": {
        "id": "BkfJBVWKV4hg"
      },
      "source": [
        "(train, validation, label_train, label_validation) = train_test_split(train , label , test_size=0.25, random_state=42)"
      ],
      "execution_count": 12,
      "outputs": []
    },
    {
      "cell_type": "code",
      "metadata": {
        "colab": {
          "base_uri": "https://localhost:8080/"
        },
        "id": "v_CNW5U2XHUu",
        "outputId": "cee43e6b-4fda-43f0-d36f-9027755ccc05"
      },
      "source": [
        "validation"
      ],
      "execution_count": 13,
      "outputs": [
        {
          "output_type": "execute_result",
          "data": {
            "text/plain": [
              "<370416x45811 sparse matrix of type '<class 'numpy.float64'>'\n",
              "\twith 12798615 stored elements in Compressed Sparse Row format>"
            ]
          },
          "metadata": {
            "tags": []
          },
          "execution_count": 13
        }
      ]
    },
    {
      "cell_type": "code",
      "metadata": {
        "colab": {
          "base_uri": "https://localhost:8080/"
        },
        "id": "tQE3lBA8XJ4C",
        "outputId": "626312e0-f830-4526-88a3-8f76e584b5d1"
      },
      "source": [
        "train.shape[1]"
      ],
      "execution_count": 15,
      "outputs": [
        {
          "output_type": "execute_result",
          "data": {
            "text/plain": [
              "45811"
            ]
          },
          "metadata": {
            "tags": []
          },
          "execution_count": 15
        }
      ]
    },
    {
      "cell_type": "markdown",
      "metadata": {
        "id": "51wcorRjWmy4"
      },
      "source": [
        ""
      ]
    },
    {
      "cell_type": "code",
      "metadata": {
        "id": "k1L3zVBaWgE8"
      },
      "source": [
        "model = models.create_mlp(train.shape[1], regress=True)\n",
        "model.compile(loss=\"mean_absolute_percentage_error\")\n",
        "model.fit(x=train, y=label_train, validation_data=(validation, label_validation), epochs=200, batch_size=8)"
      ],
      "execution_count": null,
      "outputs": []
    },
    {
      "cell_type": "markdown",
      "metadata": {
        "id": "Fso9o50EYoa2"
      },
      "source": [
        "Prediction"
      ]
    },
    {
      "cell_type": "code",
      "metadata": {
        "id": "r7NHFxSIXWeu"
      },
      "source": [
        "preds = model.predict(test)\n",
        "# fare inversa log"
      ],
      "execution_count": null,
      "outputs": []
    }
  ]
}