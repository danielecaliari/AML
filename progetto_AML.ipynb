{
  "nbformat": 4,
  "nbformat_minor": 0,
  "metadata": {
    "colab": {
      "name": "progetto_AML.ipynb",
      "provenance": [],
      "collapsed_sections": [],
      "include_colab_link": true
    },
    "kernelspec": {
      "name": "python3",
      "display_name": "Python 3"
    },
    "accelerator": "GPU"
  },
  "cells": [
    {
      "cell_type": "markdown",
      "metadata": {
        "id": "view-in-github",
        "colab_type": "text"
      },
      "source": [
        "<a href=\"https://colab.research.google.com/github/danielecaliari/AML/blob/main/progetto_AML.ipynb\" target=\"_parent\"><img src=\"https://colab.research.google.com/assets/colab-badge.svg\" alt=\"Open In Colab\"/></a>"
      ]
    },
    {
      "cell_type": "code",
      "metadata": {
        "id": "gMFX9VRgYBHM"
      },
      "source": [
        "import pandas as pd\n",
        "import numpy as np\n",
        "import matplotlib as mpl\n",
        "import matplotlib.pyplot as plt\n",
        "import seaborn as sns\n",
        "import random"
      ],
      "execution_count": 1,
      "outputs": []
    },
    {
      "cell_type": "code",
      "metadata": {
        "colab": {
          "base_uri": "https://localhost:8080/"
        },
        "id": "5Rp46TabZdUq",
        "outputId": "47b0f9d4-b20d-41a9-a68e-f11a308a8d3e"
      },
      "source": [
        "from google.colab import drive\n",
        "drive.mount('/content/drive', force_remount=True)\n",
        "root_dir = \"/content/drive/MyDrive/\"\n",
        "base_dir = root_dir + 'progetto_AML/' "
      ],
      "execution_count": 2,
      "outputs": [
        {
          "output_type": "stream",
          "text": [
            "Mounted at /content/drive\n"
          ],
          "name": "stdout"
        }
      ]
    },
    {
      "cell_type": "code",
      "metadata": {
        "id": "SxXn465cZQUY"
      },
      "source": [
        "train = pd.read_csv( base_dir + 'train.tsv', sep='\\t')\n",
        "test = pd.read_csv( base_dir + 'test.tsv', sep='\\t')"
      ],
      "execution_count": 3,
      "outputs": []
    },
    {
      "cell_type": "code",
      "metadata": {
        "id": "xsf0SoRAP4L8"
      },
      "source": [
        "#make all text attributes lowercase\n",
        "train = train.applymap(lambda s:s.lower() if type(s) == str else s)\n",
        "test = test.applymap(lambda s:s.lower() if type(s) == str else s)"
      ],
      "execution_count": 4,
      "outputs": []
    },
    {
      "cell_type": "code",
      "metadata": {
        "id": "rOzZ1f2tkhgY",
        "colab": {
          "base_uri": "https://localhost:8080/",
          "height": 419
        },
        "outputId": "ced7cd6f-911e-4c4c-e8ac-9efeeb4279a7"
      },
      "source": [
        "train"
      ],
      "execution_count": 5,
      "outputs": [
        {
          "output_type": "execute_result",
          "data": {
            "text/html": [
              "<div>\n",
              "<style scoped>\n",
              "    .dataframe tbody tr th:only-of-type {\n",
              "        vertical-align: middle;\n",
              "    }\n",
              "\n",
              "    .dataframe tbody tr th {\n",
              "        vertical-align: top;\n",
              "    }\n",
              "\n",
              "    .dataframe thead th {\n",
              "        text-align: right;\n",
              "    }\n",
              "</style>\n",
              "<table border=\"1\" class=\"dataframe\">\n",
              "  <thead>\n",
              "    <tr style=\"text-align: right;\">\n",
              "      <th></th>\n",
              "      <th>train_id</th>\n",
              "      <th>name</th>\n",
              "      <th>item_condition_id</th>\n",
              "      <th>category_name</th>\n",
              "      <th>brand_name</th>\n",
              "      <th>price</th>\n",
              "      <th>shipping</th>\n",
              "      <th>item_description</th>\n",
              "    </tr>\n",
              "  </thead>\n",
              "  <tbody>\n",
              "    <tr>\n",
              "      <th>0</th>\n",
              "      <td>0</td>\n",
              "      <td>mlb cincinnati reds t shirt size xl</td>\n",
              "      <td>3</td>\n",
              "      <td>men/tops/t-shirts</td>\n",
              "      <td>NaN</td>\n",
              "      <td>10.0</td>\n",
              "      <td>1</td>\n",
              "      <td>no description yet</td>\n",
              "    </tr>\n",
              "    <tr>\n",
              "      <th>1</th>\n",
              "      <td>1</td>\n",
              "      <td>razer blackwidow chroma keyboard</td>\n",
              "      <td>3</td>\n",
              "      <td>electronics/computers &amp; tablets/components &amp; p...</td>\n",
              "      <td>razer</td>\n",
              "      <td>52.0</td>\n",
              "      <td>0</td>\n",
              "      <td>this keyboard is in great condition and works ...</td>\n",
              "    </tr>\n",
              "    <tr>\n",
              "      <th>2</th>\n",
              "      <td>2</td>\n",
              "      <td>ava-viv blouse</td>\n",
              "      <td>1</td>\n",
              "      <td>women/tops &amp; blouses/blouse</td>\n",
              "      <td>target</td>\n",
              "      <td>10.0</td>\n",
              "      <td>1</td>\n",
              "      <td>adorable top with a hint of lace and a key hol...</td>\n",
              "    </tr>\n",
              "    <tr>\n",
              "      <th>3</th>\n",
              "      <td>3</td>\n",
              "      <td>leather horse statues</td>\n",
              "      <td>1</td>\n",
              "      <td>home/home décor/home décor accents</td>\n",
              "      <td>NaN</td>\n",
              "      <td>35.0</td>\n",
              "      <td>1</td>\n",
              "      <td>new with tags. leather horses. retail for [rm]...</td>\n",
              "    </tr>\n",
              "    <tr>\n",
              "      <th>4</th>\n",
              "      <td>4</td>\n",
              "      <td>24k gold plated rose</td>\n",
              "      <td>1</td>\n",
              "      <td>women/jewelry/necklaces</td>\n",
              "      <td>NaN</td>\n",
              "      <td>44.0</td>\n",
              "      <td>0</td>\n",
              "      <td>complete with certificate of authenticity</td>\n",
              "    </tr>\n",
              "    <tr>\n",
              "      <th>...</th>\n",
              "      <td>...</td>\n",
              "      <td>...</td>\n",
              "      <td>...</td>\n",
              "      <td>...</td>\n",
              "      <td>...</td>\n",
              "      <td>...</td>\n",
              "      <td>...</td>\n",
              "      <td>...</td>\n",
              "    </tr>\n",
              "    <tr>\n",
              "      <th>1482530</th>\n",
              "      <td>1482530</td>\n",
              "      <td>free people inspired dress</td>\n",
              "      <td>2</td>\n",
              "      <td>women/dresses/mid-calf</td>\n",
              "      <td>free people</td>\n",
              "      <td>20.0</td>\n",
              "      <td>1</td>\n",
              "      <td>lace, says size small but fits medium perfectl...</td>\n",
              "    </tr>\n",
              "    <tr>\n",
              "      <th>1482531</th>\n",
              "      <td>1482531</td>\n",
              "      <td>little mermaid handmade dress</td>\n",
              "      <td>2</td>\n",
              "      <td>kids/girls 2t-5t/dresses</td>\n",
              "      <td>disney</td>\n",
              "      <td>14.0</td>\n",
              "      <td>0</td>\n",
              "      <td>little mermaid handmade dress never worn size 2t</td>\n",
              "    </tr>\n",
              "    <tr>\n",
              "      <th>1482532</th>\n",
              "      <td>1482532</td>\n",
              "      <td>21 day fix containers and eating plan</td>\n",
              "      <td>2</td>\n",
              "      <td>sports &amp; outdoors/exercise/fitness accessories</td>\n",
              "      <td>NaN</td>\n",
              "      <td>12.0</td>\n",
              "      <td>0</td>\n",
              "      <td>used once or twice, still in great shape.</td>\n",
              "    </tr>\n",
              "    <tr>\n",
              "      <th>1482533</th>\n",
              "      <td>1482533</td>\n",
              "      <td>world markets lanterns</td>\n",
              "      <td>3</td>\n",
              "      <td>home/home décor/home décor accents</td>\n",
              "      <td>NaN</td>\n",
              "      <td>45.0</td>\n",
              "      <td>1</td>\n",
              "      <td>there is 2 of each one that you see! so 2 red ...</td>\n",
              "    </tr>\n",
              "    <tr>\n",
              "      <th>1482534</th>\n",
              "      <td>1482534</td>\n",
              "      <td>brand new lux de ville wallet</td>\n",
              "      <td>1</td>\n",
              "      <td>women/women's accessories/wallets</td>\n",
              "      <td>NaN</td>\n",
              "      <td>22.0</td>\n",
              "      <td>0</td>\n",
              "      <td>new with tag, red with sparkle. firm price, no...</td>\n",
              "    </tr>\n",
              "  </tbody>\n",
              "</table>\n",
              "<p>1482535 rows × 8 columns</p>\n",
              "</div>"
            ],
            "text/plain": [
              "         train_id  ...                                   item_description\n",
              "0               0  ...                                 no description yet\n",
              "1               1  ...  this keyboard is in great condition and works ...\n",
              "2               2  ...  adorable top with a hint of lace and a key hol...\n",
              "3               3  ...  new with tags. leather horses. retail for [rm]...\n",
              "4               4  ...          complete with certificate of authenticity\n",
              "...           ...  ...                                                ...\n",
              "1482530   1482530  ...  lace, says size small but fits medium perfectl...\n",
              "1482531   1482531  ...   little mermaid handmade dress never worn size 2t\n",
              "1482532   1482532  ...          used once or twice, still in great shape.\n",
              "1482533   1482533  ...  there is 2 of each one that you see! so 2 red ...\n",
              "1482534   1482534  ...  new with tag, red with sparkle. firm price, no...\n",
              "\n",
              "[1482535 rows x 8 columns]"
            ]
          },
          "metadata": {
            "tags": []
          },
          "execution_count": 5
        }
      ]
    },
    {
      "cell_type": "code",
      "metadata": {
        "colab": {
          "base_uri": "https://localhost:8080/",
          "height": 419
        },
        "id": "ORncqPxNqg1l",
        "outputId": "43582281-b33f-43b3-8c49-037d244acfd7"
      },
      "source": [
        "test"
      ],
      "execution_count": 6,
      "outputs": [
        {
          "output_type": "execute_result",
          "data": {
            "text/html": [
              "<div>\n",
              "<style scoped>\n",
              "    .dataframe tbody tr th:only-of-type {\n",
              "        vertical-align: middle;\n",
              "    }\n",
              "\n",
              "    .dataframe tbody tr th {\n",
              "        vertical-align: top;\n",
              "    }\n",
              "\n",
              "    .dataframe thead th {\n",
              "        text-align: right;\n",
              "    }\n",
              "</style>\n",
              "<table border=\"1\" class=\"dataframe\">\n",
              "  <thead>\n",
              "    <tr style=\"text-align: right;\">\n",
              "      <th></th>\n",
              "      <th>test_id</th>\n",
              "      <th>name</th>\n",
              "      <th>item_condition_id</th>\n",
              "      <th>category_name</th>\n",
              "      <th>brand_name</th>\n",
              "      <th>shipping</th>\n",
              "      <th>item_description</th>\n",
              "    </tr>\n",
              "  </thead>\n",
              "  <tbody>\n",
              "    <tr>\n",
              "      <th>0</th>\n",
              "      <td>0</td>\n",
              "      <td>breast cancer \"i fight like a girl\" ring</td>\n",
              "      <td>1</td>\n",
              "      <td>women/jewelry/rings</td>\n",
              "      <td>NaN</td>\n",
              "      <td>1</td>\n",
              "      <td>size 7</td>\n",
              "    </tr>\n",
              "    <tr>\n",
              "      <th>1</th>\n",
              "      <td>1</td>\n",
              "      <td>25 pcs new 7.5\"x12\" kraft bubble mailers</td>\n",
              "      <td>1</td>\n",
              "      <td>other/office supplies/shipping supplies</td>\n",
              "      <td>NaN</td>\n",
              "      <td>1</td>\n",
              "      <td>25 pcs new 7.5\"x12\" kraft bubble mailers lined...</td>\n",
              "    </tr>\n",
              "    <tr>\n",
              "      <th>2</th>\n",
              "      <td>2</td>\n",
              "      <td>coach bag</td>\n",
              "      <td>1</td>\n",
              "      <td>vintage &amp; collectibles/bags and purses/handbag</td>\n",
              "      <td>coach</td>\n",
              "      <td>1</td>\n",
              "      <td>brand new coach bag. bought for [rm] at a coac...</td>\n",
              "    </tr>\n",
              "    <tr>\n",
              "      <th>3</th>\n",
              "      <td>3</td>\n",
              "      <td>floral kimono</td>\n",
              "      <td>2</td>\n",
              "      <td>women/sweaters/cardigan</td>\n",
              "      <td>NaN</td>\n",
              "      <td>0</td>\n",
              "      <td>-floral kimono -never worn -lightweight and pe...</td>\n",
              "    </tr>\n",
              "    <tr>\n",
              "      <th>4</th>\n",
              "      <td>4</td>\n",
              "      <td>life after death</td>\n",
              "      <td>3</td>\n",
              "      <td>other/books/religion &amp; spirituality</td>\n",
              "      <td>NaN</td>\n",
              "      <td>1</td>\n",
              "      <td>rediscovering life after the loss of a loved o...</td>\n",
              "    </tr>\n",
              "    <tr>\n",
              "      <th>...</th>\n",
              "      <td>...</td>\n",
              "      <td>...</td>\n",
              "      <td>...</td>\n",
              "      <td>...</td>\n",
              "      <td>...</td>\n",
              "      <td>...</td>\n",
              "      <td>...</td>\n",
              "    </tr>\n",
              "    <tr>\n",
              "      <th>693354</th>\n",
              "      <td>693354</td>\n",
              "      <td>quartz crystal on flint stone</td>\n",
              "      <td>1</td>\n",
              "      <td>home/home décor/home décor accents</td>\n",
              "      <td>NaN</td>\n",
              "      <td>0</td>\n",
              "      <td>flint/quartz cluster. self mined ✨measures 3x2...</td>\n",
              "    </tr>\n",
              "    <tr>\n",
              "      <th>693355</th>\n",
              "      <td>693355</td>\n",
              "      <td>it cosmetics - travel bundle</td>\n",
              "      <td>1</td>\n",
              "      <td>beauty/makeup/makeup sets</td>\n",
              "      <td>it cosmetics</td>\n",
              "      <td>1</td>\n",
              "      <td>it cosmetics travel bundle. includes: brow pow...</td>\n",
              "    </tr>\n",
              "    <tr>\n",
              "      <th>693356</th>\n",
              "      <td>693356</td>\n",
              "      <td>galaxy s8 hard shell case</td>\n",
              "      <td>1</td>\n",
              "      <td>electronics/cell phones &amp; accessories/cases, c...</td>\n",
              "      <td>NaN</td>\n",
              "      <td>1</td>\n",
              "      <td>new. free shipping basstop case</td>\n",
              "    </tr>\n",
              "    <tr>\n",
              "      <th>693357</th>\n",
              "      <td>693357</td>\n",
              "      <td>hi low floral kimono</td>\n",
              "      <td>2</td>\n",
              "      <td>women/swimwear/cover-ups</td>\n",
              "      <td>NaN</td>\n",
              "      <td>0</td>\n",
              "      <td>floral kimono. tropical print. open front. hi ...</td>\n",
              "    </tr>\n",
              "    <tr>\n",
              "      <th>693358</th>\n",
              "      <td>693358</td>\n",
              "      <td>freeship 2 floral scrub tops, medium.</td>\n",
              "      <td>2</td>\n",
              "      <td>women/tops &amp; blouses/t-shirts</td>\n",
              "      <td>NaN</td>\n",
              "      <td>1</td>\n",
              "      <td>2 floral scrub tops. worn less than 5 times ea...</td>\n",
              "    </tr>\n",
              "  </tbody>\n",
              "</table>\n",
              "<p>693359 rows × 7 columns</p>\n",
              "</div>"
            ],
            "text/plain": [
              "        test_id  ...                                   item_description\n",
              "0             0  ...                                             size 7\n",
              "1             1  ...  25 pcs new 7.5\"x12\" kraft bubble mailers lined...\n",
              "2             2  ...  brand new coach bag. bought for [rm] at a coac...\n",
              "3             3  ...  -floral kimono -never worn -lightweight and pe...\n",
              "4             4  ...  rediscovering life after the loss of a loved o...\n",
              "...         ...  ...                                                ...\n",
              "693354   693354  ...  flint/quartz cluster. self mined ✨measures 3x2...\n",
              "693355   693355  ...  it cosmetics travel bundle. includes: brow pow...\n",
              "693356   693356  ...                    new. free shipping basstop case\n",
              "693357   693357  ...  floral kimono. tropical print. open front. hi ...\n",
              "693358   693358  ...  2 floral scrub tops. worn less than 5 times ea...\n",
              "\n",
              "[693359 rows x 7 columns]"
            ]
          },
          "metadata": {
            "tags": []
          },
          "execution_count": 6
        }
      ]
    },
    {
      "cell_type": "markdown",
      "metadata": {
        "id": "sqUmTDhRxUKC"
      },
      "source": [
        "#DATA ANALYSIS"
      ]
    },
    {
      "cell_type": "code",
      "metadata": {
        "colab": {
          "base_uri": "https://localhost:8080/"
        },
        "id": "f_xH2pTRbxLN",
        "outputId": "24df265d-0e12-4c11-95b5-3acf0d89b331"
      },
      "source": [
        "train.isnull().any()"
      ],
      "execution_count": 7,
      "outputs": [
        {
          "output_type": "execute_result",
          "data": {
            "text/plain": [
              "train_id             False\n",
              "name                 False\n",
              "item_condition_id    False\n",
              "category_name         True\n",
              "brand_name            True\n",
              "price                False\n",
              "shipping             False\n",
              "item_description      True\n",
              "dtype: bool"
            ]
          },
          "metadata": {
            "tags": []
          },
          "execution_count": 7
        }
      ]
    },
    {
      "cell_type": "code",
      "metadata": {
        "colab": {
          "base_uri": "https://localhost:8080/"
        },
        "id": "bkVG6HalwrDb",
        "outputId": "c4a77ef9-55c1-4b0c-f44e-5f5de394c0dc"
      },
      "source": [
        "train.isnull().sum(axis=0)"
      ],
      "execution_count": 8,
      "outputs": [
        {
          "output_type": "execute_result",
          "data": {
            "text/plain": [
              "train_id                  0\n",
              "name                      0\n",
              "item_condition_id         0\n",
              "category_name          6327\n",
              "brand_name           632682\n",
              "price                     0\n",
              "shipping                  0\n",
              "item_description          4\n",
              "dtype: int64"
            ]
          },
          "metadata": {
            "tags": []
          },
          "execution_count": 8
        }
      ]
    },
    {
      "cell_type": "code",
      "metadata": {
        "id": "BOP3A9Nai22i"
      },
      "source": [
        "#split category column in three different columns\n",
        "def split_cat(text):\n",
        "    try: return text.split(\"/\")\n",
        "    except: return (\"No Label\", \"No Label\", \"No Label\") "
      ],
      "execution_count": 9,
      "outputs": []
    },
    {
      "cell_type": "code",
      "metadata": {
        "id": "zy4M5Wyqi5vc"
      },
      "source": [
        "#train\n",
        "train['main_category'], train['subcat_1'], train['subcat_2'] = zip(*train['category_name'].apply(lambda x: split_cat(x)))\n",
        "train = train.drop('category_name', axis=1)\n",
        "#test\n",
        "test['main_category'], test['subcat_1'], test['subcat_2'] = zip(*test['category_name'].apply(lambda x: split_cat(x)))\n",
        "test = test.drop('category_name', axis=1)"
      ],
      "execution_count": 10,
      "outputs": []
    },
    {
      "cell_type": "code",
      "metadata": {
        "id": "fk063GsjbheC"
      },
      "source": [
        "#fill missing values train\n",
        "train.brand_name.fillna(value = \"Unknown\", inplace = True)\n",
        "train.item_description.fillna(value = \"No description\", inplace = True)\n",
        "#fill missing values test\n",
        "test.brand_name.fillna(value = \"Unknown\", inplace = True)\n",
        "test.item_description.fillna(value = \"No description\", inplace = True)"
      ],
      "execution_count": 11,
      "outputs": []
    },
    {
      "cell_type": "code",
      "metadata": {
        "id": "V0Jm26iGjbAH",
        "colab": {
          "base_uri": "https://localhost:8080/",
          "height": 419
        },
        "outputId": "b60f8184-34ec-4088-d9e0-70aed305dcae"
      },
      "source": [
        "train"
      ],
      "execution_count": 12,
      "outputs": [
        {
          "output_type": "execute_result",
          "data": {
            "text/html": [
              "<div>\n",
              "<style scoped>\n",
              "    .dataframe tbody tr th:only-of-type {\n",
              "        vertical-align: middle;\n",
              "    }\n",
              "\n",
              "    .dataframe tbody tr th {\n",
              "        vertical-align: top;\n",
              "    }\n",
              "\n",
              "    .dataframe thead th {\n",
              "        text-align: right;\n",
              "    }\n",
              "</style>\n",
              "<table border=\"1\" class=\"dataframe\">\n",
              "  <thead>\n",
              "    <tr style=\"text-align: right;\">\n",
              "      <th></th>\n",
              "      <th>train_id</th>\n",
              "      <th>name</th>\n",
              "      <th>item_condition_id</th>\n",
              "      <th>brand_name</th>\n",
              "      <th>price</th>\n",
              "      <th>shipping</th>\n",
              "      <th>item_description</th>\n",
              "      <th>main_category</th>\n",
              "      <th>subcat_1</th>\n",
              "      <th>subcat_2</th>\n",
              "    </tr>\n",
              "  </thead>\n",
              "  <tbody>\n",
              "    <tr>\n",
              "      <th>0</th>\n",
              "      <td>0</td>\n",
              "      <td>mlb cincinnati reds t shirt size xl</td>\n",
              "      <td>3</td>\n",
              "      <td>Unknown</td>\n",
              "      <td>10.0</td>\n",
              "      <td>1</td>\n",
              "      <td>no description yet</td>\n",
              "      <td>men</td>\n",
              "      <td>tops</td>\n",
              "      <td>t-shirts</td>\n",
              "    </tr>\n",
              "    <tr>\n",
              "      <th>1</th>\n",
              "      <td>1</td>\n",
              "      <td>razer blackwidow chroma keyboard</td>\n",
              "      <td>3</td>\n",
              "      <td>razer</td>\n",
              "      <td>52.0</td>\n",
              "      <td>0</td>\n",
              "      <td>this keyboard is in great condition and works ...</td>\n",
              "      <td>electronics</td>\n",
              "      <td>computers &amp; tablets</td>\n",
              "      <td>components &amp; parts</td>\n",
              "    </tr>\n",
              "    <tr>\n",
              "      <th>2</th>\n",
              "      <td>2</td>\n",
              "      <td>ava-viv blouse</td>\n",
              "      <td>1</td>\n",
              "      <td>target</td>\n",
              "      <td>10.0</td>\n",
              "      <td>1</td>\n",
              "      <td>adorable top with a hint of lace and a key hol...</td>\n",
              "      <td>women</td>\n",
              "      <td>tops &amp; blouses</td>\n",
              "      <td>blouse</td>\n",
              "    </tr>\n",
              "    <tr>\n",
              "      <th>3</th>\n",
              "      <td>3</td>\n",
              "      <td>leather horse statues</td>\n",
              "      <td>1</td>\n",
              "      <td>Unknown</td>\n",
              "      <td>35.0</td>\n",
              "      <td>1</td>\n",
              "      <td>new with tags. leather horses. retail for [rm]...</td>\n",
              "      <td>home</td>\n",
              "      <td>home décor</td>\n",
              "      <td>home décor accents</td>\n",
              "    </tr>\n",
              "    <tr>\n",
              "      <th>4</th>\n",
              "      <td>4</td>\n",
              "      <td>24k gold plated rose</td>\n",
              "      <td>1</td>\n",
              "      <td>Unknown</td>\n",
              "      <td>44.0</td>\n",
              "      <td>0</td>\n",
              "      <td>complete with certificate of authenticity</td>\n",
              "      <td>women</td>\n",
              "      <td>jewelry</td>\n",
              "      <td>necklaces</td>\n",
              "    </tr>\n",
              "    <tr>\n",
              "      <th>...</th>\n",
              "      <td>...</td>\n",
              "      <td>...</td>\n",
              "      <td>...</td>\n",
              "      <td>...</td>\n",
              "      <td>...</td>\n",
              "      <td>...</td>\n",
              "      <td>...</td>\n",
              "      <td>...</td>\n",
              "      <td>...</td>\n",
              "      <td>...</td>\n",
              "    </tr>\n",
              "    <tr>\n",
              "      <th>1482530</th>\n",
              "      <td>1482530</td>\n",
              "      <td>free people inspired dress</td>\n",
              "      <td>2</td>\n",
              "      <td>free people</td>\n",
              "      <td>20.0</td>\n",
              "      <td>1</td>\n",
              "      <td>lace, says size small but fits medium perfectl...</td>\n",
              "      <td>women</td>\n",
              "      <td>dresses</td>\n",
              "      <td>mid-calf</td>\n",
              "    </tr>\n",
              "    <tr>\n",
              "      <th>1482531</th>\n",
              "      <td>1482531</td>\n",
              "      <td>little mermaid handmade dress</td>\n",
              "      <td>2</td>\n",
              "      <td>disney</td>\n",
              "      <td>14.0</td>\n",
              "      <td>0</td>\n",
              "      <td>little mermaid handmade dress never worn size 2t</td>\n",
              "      <td>kids</td>\n",
              "      <td>girls 2t-5t</td>\n",
              "      <td>dresses</td>\n",
              "    </tr>\n",
              "    <tr>\n",
              "      <th>1482532</th>\n",
              "      <td>1482532</td>\n",
              "      <td>21 day fix containers and eating plan</td>\n",
              "      <td>2</td>\n",
              "      <td>Unknown</td>\n",
              "      <td>12.0</td>\n",
              "      <td>0</td>\n",
              "      <td>used once or twice, still in great shape.</td>\n",
              "      <td>sports &amp; outdoors</td>\n",
              "      <td>exercise</td>\n",
              "      <td>fitness accessories</td>\n",
              "    </tr>\n",
              "    <tr>\n",
              "      <th>1482533</th>\n",
              "      <td>1482533</td>\n",
              "      <td>world markets lanterns</td>\n",
              "      <td>3</td>\n",
              "      <td>Unknown</td>\n",
              "      <td>45.0</td>\n",
              "      <td>1</td>\n",
              "      <td>there is 2 of each one that you see! so 2 red ...</td>\n",
              "      <td>home</td>\n",
              "      <td>home décor</td>\n",
              "      <td>home décor accents</td>\n",
              "    </tr>\n",
              "    <tr>\n",
              "      <th>1482534</th>\n",
              "      <td>1482534</td>\n",
              "      <td>brand new lux de ville wallet</td>\n",
              "      <td>1</td>\n",
              "      <td>Unknown</td>\n",
              "      <td>22.0</td>\n",
              "      <td>0</td>\n",
              "      <td>new with tag, red with sparkle. firm price, no...</td>\n",
              "      <td>women</td>\n",
              "      <td>women's accessories</td>\n",
              "      <td>wallets</td>\n",
              "    </tr>\n",
              "  </tbody>\n",
              "</table>\n",
              "<p>1482535 rows × 10 columns</p>\n",
              "</div>"
            ],
            "text/plain": [
              "         train_id  ...             subcat_2\n",
              "0               0  ...             t-shirts\n",
              "1               1  ...   components & parts\n",
              "2               2  ...               blouse\n",
              "3               3  ...   home décor accents\n",
              "4               4  ...            necklaces\n",
              "...           ...  ...                  ...\n",
              "1482530   1482530  ...             mid-calf\n",
              "1482531   1482531  ...              dresses\n",
              "1482532   1482532  ...  fitness accessories\n",
              "1482533   1482533  ...   home décor accents\n",
              "1482534   1482534  ...              wallets\n",
              "\n",
              "[1482535 rows x 10 columns]"
            ]
          },
          "metadata": {
            "tags": []
          },
          "execution_count": 12
        }
      ]
    },
    {
      "cell_type": "code",
      "metadata": {
        "id": "Kj6VEUVfxnNw"
      },
      "source": [
        "#count of the categories\n",
        "maincat_count = train['main_category'].value_counts()\n",
        "subcat1_count = train['subcat_1'].value_counts()\n",
        "subcat2_count = train['subcat_2'].value_counts()\n",
        "\n",
        "maincat_count = pd.DataFrame({'name':maincat_count.index, 'count':maincat_count.values})\n",
        "subcat1_count = pd.DataFrame({'name':subcat1_count.index, 'count':subcat1_count.values})\n",
        "subcat2_count = pd.DataFrame({'name':subcat2_count.index, 'count':subcat2_count.values})"
      ],
      "execution_count": 13,
      "outputs": []
    },
    {
      "cell_type": "code",
      "metadata": {
        "id": "0OBajqI6B8uW"
      },
      "source": [
        "#function to plot categories\n",
        "def plot_counts(category, title):\n",
        "  n = category['name'].head(10).unique().__len__()+1\n",
        "  all_colors = list(plt.cm.colors.cnames.keys())\n",
        "  random.seed(100)\n",
        "  c = random.choices(all_colors, k=n)\n",
        "\n",
        "  # Plot Bars\n",
        "  plt.figure(figsize=(10,5), dpi= 80)\n",
        "  plt.bar(category['name'].head(10), category['count'].head(10), color=c, width=.5)\n",
        "  for i, val in enumerate(category['count'].head(10).values):\n",
        "      plt.text(i, val, val, horizontalalignment='center', verticalalignment='bottom', fontdict={'fontweight':500, 'size':12})\n",
        "\n",
        "  # Decoration\n",
        "  plt.gca().set_xticklabels(category['name'].head(10), rotation=60, horizontalalignment= 'right')\n",
        "  plt.title(title, fontsize=22)\n",
        "  plt.ylabel('# Products')\n",
        "  plt.show()"
      ],
      "execution_count": 14,
      "outputs": []
    },
    {
      "cell_type": "code",
      "metadata": {
        "colab": {
          "base_uri": "https://localhost:8080/",
          "height": 1000
        },
        "id": "qWTH3x3u3F4N",
        "outputId": "e7033e65-d1df-4197-a56b-1106f2bf6100"
      },
      "source": [
        "plot_counts(maincat_count, \"Number of products by main category\")\n",
        "plot_counts(subcat1_count, \"Number of products by sub category 1\")\n",
        "plot_counts(subcat2_count, \"Number of products by sub category 2\")"
      ],
      "execution_count": 15,
      "outputs": [
        {
          "output_type": "display_data",
          "data": {
            "image/png": "[encoded data removed]",
            "text/plain": [
              "<Figure size 800x400 with 1 Axes>"
            ]
          },
          "metadata": {
            "tags": [],
            "needs_background": "light"
          }
        },
        {
          "output_type": "display_data",
          "data": {
            "image/png": "[encoded data removed]",
            "text/plain": [
              "<Figure size 800x400 with 1 Axes>"
            ]
          },
          "metadata": {
            "tags": [],
            "needs_background": "light"
          }
        },
        {
          "output_type": "display_data",
          "data": {
            "image/png": "[encoded data removed]",
            "text/plain": [
              "<Figure size 800x400 with 1 Axes>"
            ]
          },
          "metadata": {
            "tags": [],
            "needs_background": "light"
          }
        }
      ]
    },
    {
      "cell_type": "code",
      "metadata": {
        "colab": {
          "base_uri": "https://localhost:8080/",
          "height": 449
        },
        "id": "wBZpBcObDLY5",
        "outputId": "62ff31e4-64f6-4a48-c777-0b6a4a88f6f5"
      },
      "source": [
        "#brand count\n",
        "brand_count = train['brand_name'].value_counts()\n",
        "#exclude the first row because is \"Unknow\" and we want to see only known brands\n",
        "brand_count = pd.DataFrame({'name':brand_count.index, 'count':brand_count.values})[1:]\n",
        "plot_counts(brand_count, \"Number of top 10 brands\")"
      ],
      "execution_count": 16,
      "outputs": [
        {
          "output_type": "display_data",
          "data": {
            "image/png": "[encoded data removed]",
            "text/plain": [
              "<Figure size 800x400 with 1 Axes>"
            ]
          },
          "metadata": {
            "tags": [],
            "needs_background": "light"
          }
        }
      ]
    },
    {
      "cell_type": "code",
      "metadata": {
        "colab": {
          "base_uri": "https://localhost:8080/"
        },
        "id": "3U-EcyLcEchh",
        "outputId": "79977c79-7216-4550-c607-81a6ed0f983c"
      },
      "source": [
        "train['price'].describe()"
      ],
      "execution_count": 17,
      "outputs": [
        {
          "output_type": "execute_result",
          "data": {
            "text/plain": [
              "count    1.482535e+06\n",
              "mean     2.673752e+01\n",
              "std      3.858607e+01\n",
              "min      0.000000e+00\n",
              "25%      1.000000e+01\n",
              "50%      1.700000e+01\n",
              "75%      2.900000e+01\n",
              "max      2.009000e+03\n",
              "Name: price, dtype: float64"
            ]
          },
          "metadata": {
            "tags": []
          },
          "execution_count": 17
        }
      ]
    },
    {
      "cell_type": "code",
      "metadata": {
        "id": "q-97xZ85icIM",
        "colab": {
          "base_uri": "https://localhost:8080/",
          "height": 392
        },
        "outputId": "8dcd2630-251c-459e-88e6-35d519e53141"
      },
      "source": [
        "# Draw Plot price feature\n",
        "plt.figure(figsize=(10,5), dpi= 80)\n",
        "sns.kdeplot(train['price'], shade=True, color=\"g\", alpha=.7)\n",
        "\n",
        "# Decoration\n",
        "plt.title('Price distribution without log normalization', fontsize=22)\n",
        "plt.show()\n",
        "\n",
        "## da trasformare in un'altra distribuzine??"
      ],
      "execution_count": 18,
      "outputs": [
        {
          "output_type": "display_data",
          "data": {
            "image/png": "[encoded data removed]",
            "text/plain": [
              "<Figure size 800x400 with 1 Axes>"
            ]
          },
          "metadata": {
            "tags": [],
            "needs_background": "light"
          }
        }
      ]
    },
    {
      "cell_type": "code",
      "metadata": {
        "id": "H3gb8FUIjF9j",
        "colab": {
          "base_uri": "https://localhost:8080/",
          "height": 392
        },
        "outputId": "0c2d887c-6b88-4114-b383-bb93782c2883"
      },
      "source": [
        "# log transformation for the price\n",
        "def log_price(price):\n",
        "    return np.log1p(price) #changes\n",
        "\n",
        "train['price'] = train['price'].apply(lambda x: log_price(x))\n",
        "\n",
        "plt.figure(figsize=(10,5), dpi= 80)\n",
        "sns.kdeplot(train['price'], shade=True, color=\"g\", alpha=.7)\n",
        "plt.title('Price distribution with log transformation', fontsize=22)\n",
        "plt.show()"
      ],
      "execution_count": 19,
      "outputs": [
        {
          "output_type": "display_data",
          "data": {
            "image/png": "[encoded data removed]",
            "text/plain": [
              "<Figure size 800x400 with 1 Axes>"
            ]
          },
          "metadata": {
            "tags": [],
            "needs_background": "light"
          }
        }
      ]
    },
    {
      "cell_type": "code",
      "metadata": {
        "colab": {
          "base_uri": "https://localhost:8080/",
          "height": 364
        },
        "id": "Lw8tIafE0xBt",
        "outputId": "d6297e5b-9b63-47c3-c058-2b3c1a7649b1"
      },
      "source": [
        "# plot item_condition feature\n",
        "# most items for sale are in good condition\n",
        "print(train['item_condition_id'].value_counts())\n",
        "train['item_condition_id'].value_counts().plot(kind='bar');"
      ],
      "execution_count": 20,
      "outputs": [
        {
          "output_type": "stream",
          "text": [
            "1    640549\n",
            "3    432161\n",
            "2    375479\n",
            "4     31962\n",
            "5      2384\n",
            "Name: item_condition_id, dtype: int64\n"
          ],
          "name": "stdout"
        },
        {
          "output_type": "display_data",
          "data": {
            "image/png": "[encoded data removed]",
            "text/plain": [
              "<Figure size 432x288 with 1 Axes>"
            ]
          },
          "metadata": {
            "tags": [],
            "needs_background": "light"
          }
        }
      ]
    },
    {
      "cell_type": "code",
      "metadata": {
        "id": "WxWzczWNniT2",
        "colab": {
          "base_uri": "https://localhost:8080/",
          "height": 375
        },
        "outputId": "64966cad-19be-4f98-b861-84048c3126b1"
      },
      "source": [
        "from wordcloud import WordCloud, STOPWORDS, ImageColorGenerator\n",
        "from collections import Counter\n",
        "import nltk\n",
        "from nltk.corpus import stopwords \n",
        "nltk.download('stopwords')\n",
        "word_counter = Counter(train['item_description'])\n",
        "most_common_words = word_counter.most_common(500)\n",
        "stopwords = stopwords.words('english')\n",
        "stopwords.extend(['rm'])\n",
        "wordcloud = WordCloud(stopwords=stopwords,background_color=\"white\").generate(str(most_common_words))\n",
        "\n",
        "# Display the generated image:\n",
        "plt.figure(figsize=(10,15))\n",
        "plt.imshow(wordcloud, interpolation='bilinear')\n",
        "plt.title(\"Word cloud generated from the item_descriptions\\n\")\n",
        "plt.axis(\"off\")\n",
        "plt.show()"
      ],
      "execution_count": 21,
      "outputs": [
        {
          "output_type": "stream",
          "text": [
            "[nltk_data] Downloading package stopwords to /root/nltk_data...\n",
            "[nltk_data]   Unzipping corpora/stopwords.zip.\n"
          ],
          "name": "stdout"
        },
        {
          "output_type": "display_data",
          "data": {
            "image/png": "[encoded data removed]",
            "text/plain": [
              "<Figure size 720x1080 with 1 Axes>"
            ]
          },
          "metadata": {
            "tags": [],
            "needs_background": "light"
          }
        }
      ]
    },
    {
      "cell_type": "code",
      "metadata": {
        "id": "pgob47I8njAV",
        "colab": {
          "base_uri": "https://localhost:8080/",
          "height": 419
        },
        "outputId": "f44d450a-39eb-427b-e0ad-37482f0db89c"
      },
      "source": [
        "# add column with wordcount of descriptions train\n",
        "train['description_wc'] = [len(str(i).split()) for i in train['item_description']]\n",
        "train\n",
        "# add column with wordcount of descriptions test\n",
        "test['description_wc'] = [len(str(i).split()) for i in test['item_description']]\n",
        "test"
      ],
      "execution_count": 22,
      "outputs": [
        {
          "output_type": "execute_result",
          "data": {
            "text/html": [
              "<div>\n",
              "<style scoped>\n",
              "    .dataframe tbody tr th:only-of-type {\n",
              "        vertical-align: middle;\n",
              "    }\n",
              "\n",
              "    .dataframe tbody tr th {\n",
              "        vertical-align: top;\n",
              "    }\n",
              "\n",
              "    .dataframe thead th {\n",
              "        text-align: right;\n",
              "    }\n",
              "</style>\n",
              "<table border=\"1\" class=\"dataframe\">\n",
              "  <thead>\n",
              "    <tr style=\"text-align: right;\">\n",
              "      <th></th>\n",
              "      <th>test_id</th>\n",
              "      <th>name</th>\n",
              "      <th>item_condition_id</th>\n",
              "      <th>brand_name</th>\n",
              "      <th>shipping</th>\n",
              "      <th>item_description</th>\n",
              "      <th>main_category</th>\n",
              "      <th>subcat_1</th>\n",
              "      <th>subcat_2</th>\n",
              "      <th>description_wc</th>\n",
              "    </tr>\n",
              "  </thead>\n",
              "  <tbody>\n",
              "    <tr>\n",
              "      <th>0</th>\n",
              "      <td>0</td>\n",
              "      <td>breast cancer \"i fight like a girl\" ring</td>\n",
              "      <td>1</td>\n",
              "      <td>Unknown</td>\n",
              "      <td>1</td>\n",
              "      <td>size 7</td>\n",
              "      <td>women</td>\n",
              "      <td>jewelry</td>\n",
              "      <td>rings</td>\n",
              "      <td>2</td>\n",
              "    </tr>\n",
              "    <tr>\n",
              "      <th>1</th>\n",
              "      <td>1</td>\n",
              "      <td>25 pcs new 7.5\"x12\" kraft bubble mailers</td>\n",
              "      <td>1</td>\n",
              "      <td>Unknown</td>\n",
              "      <td>1</td>\n",
              "      <td>25 pcs new 7.5\"x12\" kraft bubble mailers lined...</td>\n",
              "      <td>other</td>\n",
              "      <td>office supplies</td>\n",
              "      <td>shipping supplies</td>\n",
              "      <td>38</td>\n",
              "    </tr>\n",
              "    <tr>\n",
              "      <th>2</th>\n",
              "      <td>2</td>\n",
              "      <td>coach bag</td>\n",
              "      <td>1</td>\n",
              "      <td>coach</td>\n",
              "      <td>1</td>\n",
              "      <td>brand new coach bag. bought for [rm] at a coac...</td>\n",
              "      <td>vintage &amp; collectibles</td>\n",
              "      <td>bags and purses</td>\n",
              "      <td>handbag</td>\n",
              "      <td>11</td>\n",
              "    </tr>\n",
              "    <tr>\n",
              "      <th>3</th>\n",
              "      <td>3</td>\n",
              "      <td>floral kimono</td>\n",
              "      <td>2</td>\n",
              "      <td>Unknown</td>\n",
              "      <td>0</td>\n",
              "      <td>-floral kimono -never worn -lightweight and pe...</td>\n",
              "      <td>women</td>\n",
              "      <td>sweaters</td>\n",
              "      <td>cardigan</td>\n",
              "      <td>10</td>\n",
              "    </tr>\n",
              "    <tr>\n",
              "      <th>4</th>\n",
              "      <td>4</td>\n",
              "      <td>life after death</td>\n",
              "      <td>3</td>\n",
              "      <td>Unknown</td>\n",
              "      <td>1</td>\n",
              "      <td>rediscovering life after the loss of a loved o...</td>\n",
              "      <td>other</td>\n",
              "      <td>books</td>\n",
              "      <td>religion &amp; spirituality</td>\n",
              "      <td>29</td>\n",
              "    </tr>\n",
              "    <tr>\n",
              "      <th>...</th>\n",
              "      <td>...</td>\n",
              "      <td>...</td>\n",
              "      <td>...</td>\n",
              "      <td>...</td>\n",
              "      <td>...</td>\n",
              "      <td>...</td>\n",
              "      <td>...</td>\n",
              "      <td>...</td>\n",
              "      <td>...</td>\n",
              "      <td>...</td>\n",
              "    </tr>\n",
              "    <tr>\n",
              "      <th>693354</th>\n",
              "      <td>693354</td>\n",
              "      <td>quartz crystal on flint stone</td>\n",
              "      <td>1</td>\n",
              "      <td>Unknown</td>\n",
              "      <td>0</td>\n",
              "      <td>flint/quartz cluster. self mined ✨measures 3x2...</td>\n",
              "      <td>home</td>\n",
              "      <td>home décor</td>\n",
              "      <td>home décor accents</td>\n",
              "      <td>38</td>\n",
              "    </tr>\n",
              "    <tr>\n",
              "      <th>693355</th>\n",
              "      <td>693355</td>\n",
              "      <td>it cosmetics - travel bundle</td>\n",
              "      <td>1</td>\n",
              "      <td>it cosmetics</td>\n",
              "      <td>1</td>\n",
              "      <td>it cosmetics travel bundle. includes: brow pow...</td>\n",
              "      <td>beauty</td>\n",
              "      <td>makeup</td>\n",
              "      <td>makeup sets</td>\n",
              "      <td>176</td>\n",
              "    </tr>\n",
              "    <tr>\n",
              "      <th>693356</th>\n",
              "      <td>693356</td>\n",
              "      <td>galaxy s8 hard shell case</td>\n",
              "      <td>1</td>\n",
              "      <td>Unknown</td>\n",
              "      <td>1</td>\n",
              "      <td>new. free shipping basstop case</td>\n",
              "      <td>electronics</td>\n",
              "      <td>cell phones &amp; accessories</td>\n",
              "      <td>cases, covers &amp; skins</td>\n",
              "      <td>5</td>\n",
              "    </tr>\n",
              "    <tr>\n",
              "      <th>693357</th>\n",
              "      <td>693357</td>\n",
              "      <td>hi low floral kimono</td>\n",
              "      <td>2</td>\n",
              "      <td>Unknown</td>\n",
              "      <td>0</td>\n",
              "      <td>floral kimono. tropical print. open front. hi ...</td>\n",
              "      <td>women</td>\n",
              "      <td>swimwear</td>\n",
              "      <td>cover-ups</td>\n",
              "      <td>17</td>\n",
              "    </tr>\n",
              "    <tr>\n",
              "      <th>693358</th>\n",
              "      <td>693358</td>\n",
              "      <td>freeship 2 floral scrub tops, medium.</td>\n",
              "      <td>2</td>\n",
              "      <td>Unknown</td>\n",
              "      <td>1</td>\n",
              "      <td>2 floral scrub tops. worn less than 5 times ea...</td>\n",
              "      <td>women</td>\n",
              "      <td>tops &amp; blouses</td>\n",
              "      <td>t-shirts</td>\n",
              "      <td>15</td>\n",
              "    </tr>\n",
              "  </tbody>\n",
              "</table>\n",
              "<p>693359 rows × 10 columns</p>\n",
              "</div>"
            ],
            "text/plain": [
              "        test_id  ... description_wc\n",
              "0             0  ...              2\n",
              "1             1  ...             38\n",
              "2             2  ...             11\n",
              "3             3  ...             10\n",
              "4             4  ...             29\n",
              "...         ...  ...            ...\n",
              "693354   693354  ...             38\n",
              "693355   693355  ...            176\n",
              "693356   693356  ...              5\n",
              "693357   693357  ...             17\n",
              "693358   693358  ...             15\n",
              "\n",
              "[693359 rows x 10 columns]"
            ]
          },
          "metadata": {
            "tags": []
          },
          "execution_count": 22
        }
      ]
    },
    {
      "cell_type": "code",
      "metadata": {
        "id": "StniB3JqnjQU",
        "colab": {
          "base_uri": "https://localhost:8080/",
          "height": 286
        },
        "outputId": "ba21b6c8-753a-438c-cf7a-623dca27c651"
      },
      "source": [
        "# the majority descriptions contain approximately less than 40 words\n",
        "sns.boxplot(y=train['description_wc'], orient='v')\n",
        "plt.title(\"Box plot of description word count\")\n",
        "plt.xlabel(\"item_description\")\n",
        "plt.ylabel(\"No. of words\")\n",
        "plt.show()"
      ],
      "execution_count": 23,
      "outputs": [
        {
          "output_type": "display_data",
          "data": {
            "image/png": "[encoded data removed]",
            "text/plain": [
              "<Figure size 432x288 with 1 Axes>"
            ]
          },
          "metadata": {
            "tags": [],
            "needs_background": "light"
          }
        }
      ]
    },
    {
      "cell_type": "markdown",
      "metadata": {
        "id": "42WRYP8n0wlk"
      },
      "source": [
        "Description pre-processing"
      ]
    },
    {
      "cell_type": "code",
      "metadata": {
        "id": "vu1SHNs8njYl"
      },
      "source": [
        "import re\n",
        "# expanding english language contractions\n",
        "def decontracted(phrase):\n",
        "    # specific\n",
        "    phrase = re.sub(r\"won\\'t\", \"will not\", phrase)\n",
        "    phrase = re.sub(r\"can\\'t\", \"can not\", phrase)\n",
        "    # general\n",
        "    phrase = re.sub(r\"n\\'t\", \" not\", phrase)\n",
        "    phrase = re.sub(r\"\\'re\", \" are\", phrase)\n",
        "    phrase = re.sub(r\"\\'s\", \" is\", phrase)\n",
        "    phrase = re.sub(r\"\\'d\", \" would\", phrase)\n",
        "    phrase = re.sub(r\"\\'ll\", \" will\", phrase)\n",
        "    phrase = re.sub(r\"\\'t\", \" not\", phrase)\n",
        "    phrase = re.sub(r\"\\'ve\", \" have\", phrase)\n",
        "    phrase = re.sub(r\"\\'m\", \" am\", phrase)\n",
        "    return phrase\n"
      ],
      "execution_count": 24,
      "outputs": []
    },
    {
      "cell_type": "code",
      "metadata": {
        "id": "tSFU14jY49Uh",
        "colab": {
          "base_uri": "https://localhost:8080/",
          "height": 419
        },
        "outputId": "37c7e017-7da7-4bf3-eb36-7c46c1b5e43e"
      },
      "source": [
        "def text_preprocessing(sentence):\n",
        "  sent = decontracted(sentence)\n",
        "  sent = sent.replace('\\\\r', ' ')\n",
        "  sent = sent.replace('\\\\\"', ' ')\n",
        "  sent = sent.replace('\\\\n', ' ')\n",
        "  sent = re.sub('[^A-Za-z0-9]+', ' ', sent)\n",
        "  sent = ' '.join(e for e in sent.split() if e.lower() not in stopwords)\n",
        "  return sent.lower().strip()\n",
        "\n",
        "#train\n",
        "train['item_description'] = train['item_description'].apply(lambda x: text_preprocessing(x))\n",
        "train\n",
        "#test\n",
        "test['item_description'] = test['item_description'].apply(lambda x: text_preprocessing(x))\n",
        "test"
      ],
      "execution_count": 25,
      "outputs": [
        {
          "output_type": "execute_result",
          "data": {
            "text/html": [
              "<div>\n",
              "<style scoped>\n",
              "    .dataframe tbody tr th:only-of-type {\n",
              "        vertical-align: middle;\n",
              "    }\n",
              "\n",
              "    .dataframe tbody tr th {\n",
              "        vertical-align: top;\n",
              "    }\n",
              "\n",
              "    .dataframe thead th {\n",
              "        text-align: right;\n",
              "    }\n",
              "</style>\n",
              "<table border=\"1\" class=\"dataframe\">\n",
              "  <thead>\n",
              "    <tr style=\"text-align: right;\">\n",
              "      <th></th>\n",
              "      <th>test_id</th>\n",
              "      <th>name</th>\n",
              "      <th>item_condition_id</th>\n",
              "      <th>brand_name</th>\n",
              "      <th>shipping</th>\n",
              "      <th>item_description</th>\n",
              "      <th>main_category</th>\n",
              "      <th>subcat_1</th>\n",
              "      <th>subcat_2</th>\n",
              "      <th>description_wc</th>\n",
              "    </tr>\n",
              "  </thead>\n",
              "  <tbody>\n",
              "    <tr>\n",
              "      <th>0</th>\n",
              "      <td>0</td>\n",
              "      <td>breast cancer \"i fight like a girl\" ring</td>\n",
              "      <td>1</td>\n",
              "      <td>Unknown</td>\n",
              "      <td>1</td>\n",
              "      <td>size 7</td>\n",
              "      <td>women</td>\n",
              "      <td>jewelry</td>\n",
              "      <td>rings</td>\n",
              "      <td>2</td>\n",
              "    </tr>\n",
              "    <tr>\n",
              "      <th>1</th>\n",
              "      <td>1</td>\n",
              "      <td>25 pcs new 7.5\"x12\" kraft bubble mailers</td>\n",
              "      <td>1</td>\n",
              "      <td>Unknown</td>\n",
              "      <td>1</td>\n",
              "      <td>25 pcs new 7 5 x12 kraft bubble mailers lined ...</td>\n",
              "      <td>other</td>\n",
              "      <td>office supplies</td>\n",
              "      <td>shipping supplies</td>\n",
              "      <td>38</td>\n",
              "    </tr>\n",
              "    <tr>\n",
              "      <th>2</th>\n",
              "      <td>2</td>\n",
              "      <td>coach bag</td>\n",
              "      <td>1</td>\n",
              "      <td>coach</td>\n",
              "      <td>1</td>\n",
              "      <td>brand new coach bag bought coach outlet</td>\n",
              "      <td>vintage &amp; collectibles</td>\n",
              "      <td>bags and purses</td>\n",
              "      <td>handbag</td>\n",
              "      <td>11</td>\n",
              "    </tr>\n",
              "    <tr>\n",
              "      <th>3</th>\n",
              "      <td>3</td>\n",
              "      <td>floral kimono</td>\n",
              "      <td>2</td>\n",
              "      <td>Unknown</td>\n",
              "      <td>0</td>\n",
              "      <td>floral kimono never worn lightweight perfect h...</td>\n",
              "      <td>women</td>\n",
              "      <td>sweaters</td>\n",
              "      <td>cardigan</td>\n",
              "      <td>10</td>\n",
              "    </tr>\n",
              "    <tr>\n",
              "      <th>4</th>\n",
              "      <td>4</td>\n",
              "      <td>life after death</td>\n",
              "      <td>3</td>\n",
              "      <td>Unknown</td>\n",
              "      <td>1</td>\n",
              "      <td>rediscovering life loss loved one tony cooke p...</td>\n",
              "      <td>other</td>\n",
              "      <td>books</td>\n",
              "      <td>religion &amp; spirituality</td>\n",
              "      <td>29</td>\n",
              "    </tr>\n",
              "    <tr>\n",
              "      <th>...</th>\n",
              "      <td>...</td>\n",
              "      <td>...</td>\n",
              "      <td>...</td>\n",
              "      <td>...</td>\n",
              "      <td>...</td>\n",
              "      <td>...</td>\n",
              "      <td>...</td>\n",
              "      <td>...</td>\n",
              "      <td>...</td>\n",
              "      <td>...</td>\n",
              "    </tr>\n",
              "    <tr>\n",
              "      <th>693354</th>\n",
              "      <td>693354</td>\n",
              "      <td>quartz crystal on flint stone</td>\n",
              "      <td>1</td>\n",
              "      <td>Unknown</td>\n",
              "      <td>0</td>\n",
              "      <td>flint quartz cluster self mined measures 3x2in...</td>\n",
              "      <td>home</td>\n",
              "      <td>home décor</td>\n",
              "      <td>home décor accents</td>\n",
              "      <td>38</td>\n",
              "    </tr>\n",
              "    <tr>\n",
              "      <th>693355</th>\n",
              "      <td>693355</td>\n",
              "      <td>it cosmetics - travel bundle</td>\n",
              "      <td>1</td>\n",
              "      <td>it cosmetics</td>\n",
              "      <td>1</td>\n",
              "      <td>cosmetics travel bundle includes brow power un...</td>\n",
              "      <td>beauty</td>\n",
              "      <td>makeup</td>\n",
              "      <td>makeup sets</td>\n",
              "      <td>176</td>\n",
              "    </tr>\n",
              "    <tr>\n",
              "      <th>693356</th>\n",
              "      <td>693356</td>\n",
              "      <td>galaxy s8 hard shell case</td>\n",
              "      <td>1</td>\n",
              "      <td>Unknown</td>\n",
              "      <td>1</td>\n",
              "      <td>new free shipping basstop case</td>\n",
              "      <td>electronics</td>\n",
              "      <td>cell phones &amp; accessories</td>\n",
              "      <td>cases, covers &amp; skins</td>\n",
              "      <td>5</td>\n",
              "    </tr>\n",
              "    <tr>\n",
              "      <th>693357</th>\n",
              "      <td>693357</td>\n",
              "      <td>hi low floral kimono</td>\n",
              "      <td>2</td>\n",
              "      <td>Unknown</td>\n",
              "      <td>0</td>\n",
              "      <td>floral kimono tropical print open front hi low...</td>\n",
              "      <td>women</td>\n",
              "      <td>swimwear</td>\n",
              "      <td>cover-ups</td>\n",
              "      <td>17</td>\n",
              "    </tr>\n",
              "    <tr>\n",
              "      <th>693358</th>\n",
              "      <td>693358</td>\n",
              "      <td>freeship 2 floral scrub tops, medium.</td>\n",
              "      <td>2</td>\n",
              "      <td>Unknown</td>\n",
              "      <td>1</td>\n",
              "      <td>2 floral scrub tops worn less 5 times brown be...</td>\n",
              "      <td>women</td>\n",
              "      <td>tops &amp; blouses</td>\n",
              "      <td>t-shirts</td>\n",
              "      <td>15</td>\n",
              "    </tr>\n",
              "  </tbody>\n",
              "</table>\n",
              "<p>693359 rows × 10 columns</p>\n",
              "</div>"
            ],
            "text/plain": [
              "        test_id  ... description_wc\n",
              "0             0  ...              2\n",
              "1             1  ...             38\n",
              "2             2  ...             11\n",
              "3             3  ...             10\n",
              "4             4  ...             29\n",
              "...         ...  ...            ...\n",
              "693354   693354  ...             38\n",
              "693355   693355  ...            176\n",
              "693356   693356  ...              5\n",
              "693357   693357  ...             17\n",
              "693358   693358  ...             15\n",
              "\n",
              "[693359 rows x 10 columns]"
            ]
          },
          "metadata": {
            "tags": []
          },
          "execution_count": 25
        }
      ]
    },
    {
      "cell_type": "markdown",
      "metadata": {
        "id": "WkNLkVI5Beyk"
      },
      "source": [
        "Top 25 most repeating words in the preprocessed text"
      ]
    },
    {
      "cell_type": "code",
      "metadata": {
        "id": "ggI25VyiBQ2i",
        "colab": {
          "base_uri": "https://localhost:8080/",
          "height": 320
        },
        "outputId": "312f9259-0c57-4b74-be0e-61b259e310fa"
      },
      "source": [
        "word_count={}\n",
        "for sentence in train['item_description'].values:\n",
        "  for word in sentence.split(' '):\n",
        "    if len(word)>=3:\n",
        "      if word not in word_count:\n",
        "        word_count[word]=1\n",
        "      else:\n",
        "        word_count[word]+=1\n",
        "\n",
        "n_print=25\n",
        "word_counter = Counter(word_count)\n",
        "words=[]\n",
        "counter=[]\n",
        "for word, count in word_counter.most_common(n_print):\n",
        "  words.append(word)\n",
        "  counter.append(count)\n",
        "\n",
        "f, ax = plt.subplots(figsize=(22,5))\n",
        "plt.bar(words, counter)\n",
        "plt.show()\n"
      ],
      "execution_count": 26,
      "outputs": [
        {
          "output_type": "display_data",
          "data": {
            "image/png": "[encoded data removed]",
            "text/plain": [
              "<Figure size 1584x360 with 1 Axes>"
            ]
          },
          "metadata": {
            "tags": [],
            "needs_background": "light"
          }
        }
      ]
    },
    {
      "cell_type": "code",
      "metadata": {
        "id": "WigsJQNwDcIt",
        "colab": {
          "base_uri": "https://localhost:8080/",
          "height": 419
        },
        "outputId": "76e41dbc-d5e0-46cb-ee63-eebfca908909"
      },
      "source": [
        "train"
      ],
      "execution_count": 27,
      "outputs": [
        {
          "output_type": "execute_result",
          "data": {
            "text/html": [
              "<div>\n",
              "<style scoped>\n",
              "    .dataframe tbody tr th:only-of-type {\n",
              "        vertical-align: middle;\n",
              "    }\n",
              "\n",
              "    .dataframe tbody tr th {\n",
              "        vertical-align: top;\n",
              "    }\n",
              "\n",
              "    .dataframe thead th {\n",
              "        text-align: right;\n",
              "    }\n",
              "</style>\n",
              "<table border=\"1\" class=\"dataframe\">\n",
              "  <thead>\n",
              "    <tr style=\"text-align: right;\">\n",
              "      <th></th>\n",
              "      <th>train_id</th>\n",
              "      <th>name</th>\n",
              "      <th>item_condition_id</th>\n",
              "      <th>brand_name</th>\n",
              "      <th>price</th>\n",
              "      <th>shipping</th>\n",
              "      <th>item_description</th>\n",
              "      <th>main_category</th>\n",
              "      <th>subcat_1</th>\n",
              "      <th>subcat_2</th>\n",
              "      <th>description_wc</th>\n",
              "    </tr>\n",
              "  </thead>\n",
              "  <tbody>\n",
              "    <tr>\n",
              "      <th>0</th>\n",
              "      <td>0</td>\n",
              "      <td>mlb cincinnati reds t shirt size xl</td>\n",
              "      <td>3</td>\n",
              "      <td>Unknown</td>\n",
              "      <td>2.397895</td>\n",
              "      <td>1</td>\n",
              "      <td>description yet</td>\n",
              "      <td>men</td>\n",
              "      <td>tops</td>\n",
              "      <td>t-shirts</td>\n",
              "      <td>3</td>\n",
              "    </tr>\n",
              "    <tr>\n",
              "      <th>1</th>\n",
              "      <td>1</td>\n",
              "      <td>razer blackwidow chroma keyboard</td>\n",
              "      <td>3</td>\n",
              "      <td>razer</td>\n",
              "      <td>3.970292</td>\n",
              "      <td>0</td>\n",
              "      <td>keyboard great condition works like came box p...</td>\n",
              "      <td>electronics</td>\n",
              "      <td>computers &amp; tablets</td>\n",
              "      <td>components &amp; parts</td>\n",
              "      <td>36</td>\n",
              "    </tr>\n",
              "    <tr>\n",
              "      <th>2</th>\n",
              "      <td>2</td>\n",
              "      <td>ava-viv blouse</td>\n",
              "      <td>1</td>\n",
              "      <td>target</td>\n",
              "      <td>2.397895</td>\n",
              "      <td>1</td>\n",
              "      <td>adorable top hint lace key hole back pale pink...</td>\n",
              "      <td>women</td>\n",
              "      <td>tops &amp; blouses</td>\n",
              "      <td>blouse</td>\n",
              "      <td>29</td>\n",
              "    </tr>\n",
              "    <tr>\n",
              "      <th>3</th>\n",
              "      <td>3</td>\n",
              "      <td>leather horse statues</td>\n",
              "      <td>1</td>\n",
              "      <td>Unknown</td>\n",
              "      <td>3.583519</td>\n",
              "      <td>1</td>\n",
              "      <td>new tags leather horses retail stand foot high...</td>\n",
              "      <td>home</td>\n",
              "      <td>home décor</td>\n",
              "      <td>home décor accents</td>\n",
              "      <td>32</td>\n",
              "    </tr>\n",
              "    <tr>\n",
              "      <th>4</th>\n",
              "      <td>4</td>\n",
              "      <td>24k gold plated rose</td>\n",
              "      <td>1</td>\n",
              "      <td>Unknown</td>\n",
              "      <td>3.806662</td>\n",
              "      <td>0</td>\n",
              "      <td>complete certificate authenticity</td>\n",
              "      <td>women</td>\n",
              "      <td>jewelry</td>\n",
              "      <td>necklaces</td>\n",
              "      <td>5</td>\n",
              "    </tr>\n",
              "    <tr>\n",
              "      <th>...</th>\n",
              "      <td>...</td>\n",
              "      <td>...</td>\n",
              "      <td>...</td>\n",
              "      <td>...</td>\n",
              "      <td>...</td>\n",
              "      <td>...</td>\n",
              "      <td>...</td>\n",
              "      <td>...</td>\n",
              "      <td>...</td>\n",
              "      <td>...</td>\n",
              "      <td>...</td>\n",
              "    </tr>\n",
              "    <tr>\n",
              "      <th>1482530</th>\n",
              "      <td>1482530</td>\n",
              "      <td>free people inspired dress</td>\n",
              "      <td>2</td>\n",
              "      <td>free people</td>\n",
              "      <td>3.044522</td>\n",
              "      <td>1</td>\n",
              "      <td>lace says size small fits medium perfectly nev...</td>\n",
              "      <td>women</td>\n",
              "      <td>dresses</td>\n",
              "      <td>mid-calf</td>\n",
              "      <td>22</td>\n",
              "    </tr>\n",
              "    <tr>\n",
              "      <th>1482531</th>\n",
              "      <td>1482531</td>\n",
              "      <td>little mermaid handmade dress</td>\n",
              "      <td>2</td>\n",
              "      <td>disney</td>\n",
              "      <td>2.708050</td>\n",
              "      <td>0</td>\n",
              "      <td>little mermaid handmade dress never worn size 2t</td>\n",
              "      <td>kids</td>\n",
              "      <td>girls 2t-5t</td>\n",
              "      <td>dresses</td>\n",
              "      <td>8</td>\n",
              "    </tr>\n",
              "    <tr>\n",
              "      <th>1482532</th>\n",
              "      <td>1482532</td>\n",
              "      <td>21 day fix containers and eating plan</td>\n",
              "      <td>2</td>\n",
              "      <td>Unknown</td>\n",
              "      <td>2.564949</td>\n",
              "      <td>0</td>\n",
              "      <td>used twice still great shape</td>\n",
              "      <td>sports &amp; outdoors</td>\n",
              "      <td>exercise</td>\n",
              "      <td>fitness accessories</td>\n",
              "      <td>8</td>\n",
              "    </tr>\n",
              "    <tr>\n",
              "      <th>1482533</th>\n",
              "      <td>1482533</td>\n",
              "      <td>world markets lanterns</td>\n",
              "      <td>3</td>\n",
              "      <td>Unknown</td>\n",
              "      <td>3.828641</td>\n",
              "      <td>1</td>\n",
              "      <td>2 one see 2 red 2 orange 2 big red orange ones...</td>\n",
              "      <td>home</td>\n",
              "      <td>home décor</td>\n",
              "      <td>home décor accents</td>\n",
              "      <td>28</td>\n",
              "    </tr>\n",
              "    <tr>\n",
              "      <th>1482534</th>\n",
              "      <td>1482534</td>\n",
              "      <td>brand new lux de ville wallet</td>\n",
              "      <td>1</td>\n",
              "      <td>Unknown</td>\n",
              "      <td>3.135494</td>\n",
              "      <td>0</td>\n",
              "      <td>new tag red sparkle firm price free shipping</td>\n",
              "      <td>women</td>\n",
              "      <td>women's accessories</td>\n",
              "      <td>wallets</td>\n",
              "      <td>11</td>\n",
              "    </tr>\n",
              "  </tbody>\n",
              "</table>\n",
              "<p>1482535 rows × 11 columns</p>\n",
              "</div>"
            ],
            "text/plain": [
              "         train_id  ... description_wc\n",
              "0               0  ...              3\n",
              "1               1  ...             36\n",
              "2               2  ...             29\n",
              "3               3  ...             32\n",
              "4               4  ...              5\n",
              "...           ...  ...            ...\n",
              "1482530   1482530  ...             22\n",
              "1482531   1482531  ...              8\n",
              "1482532   1482532  ...              8\n",
              "1482533   1482533  ...             28\n",
              "1482534   1482534  ...             11\n",
              "\n",
              "[1482535 rows x 11 columns]"
            ]
          },
          "metadata": {
            "tags": []
          },
          "execution_count": 27
        }
      ]
    },
    {
      "cell_type": "code",
      "metadata": {
        "id": "byWT1FKPPQMN",
        "colab": {
          "base_uri": "https://localhost:8080/"
        },
        "outputId": "a2a0ccdd-7110-445e-e430-f43525b97c80"
      },
      "source": [
        "# reset product with price 0 train\n",
        "print(train.shape)\n",
        "train = train[train['price']>0].reset_index(drop=True)\n",
        "print(train.shape)\n"
      ],
      "execution_count": 28,
      "outputs": [
        {
          "output_type": "stream",
          "text": [
            "(1482535, 11)\n",
            "(1481661, 11)\n"
          ],
          "name": "stdout"
        }
      ]
    },
    {
      "cell_type": "markdown",
      "metadata": {
        "id": "vNvCyKFmQwGO"
      },
      "source": [
        "Sentiment analysis"
      ]
    },
    {
      "cell_type": "code",
      "metadata": {
        "id": "ACRZsun6QtqN",
        "colab": {
          "base_uri": "https://localhost:8080/"
        },
        "outputId": "9e23f7ea-876b-46f7-946a-68104f31a659"
      },
      "source": [
        "import nltk\n",
        "nltk.download('vader_lexicon')\n",
        "from nltk.sentiment.vader import SentimentIntensityAnalyzer\n",
        "sid_obj = SentimentIntensityAnalyzer()\n",
        "def sentiment_analysis(sentence):\n",
        "  sentiment_dict = sid_obj.polarity_scores(sentence)\n",
        "  return (sentiment_dict['neg']*100, sentiment_dict['neu']*100, sentiment_dict['pos']*100, sentiment_dict['compound']*100) \n",
        "\n",
        "#train\n",
        "train['negative'], train['neutral'], train['positive'], train['compound'] = zip(*train['item_description'].apply(lambda x: sentiment_analysis(x)))\n",
        "#test\n",
        "test['negative'], test['neutral'], test['positive'], test['compound'] = zip(*test['item_description'].apply(lambda x: sentiment_analysis(x)))"
      ],
      "execution_count": 29,
      "outputs": [
        {
          "output_type": "stream",
          "text": [
            "[nltk_data] Downloading package vader_lexicon to /root/nltk_data...\n"
          ],
          "name": "stdout"
        },
        {
          "output_type": "stream",
          "text": [
            "/usr/local/lib/python3.6/dist-packages/nltk/twitter/__init__.py:20: UserWarning: The twython library has not been installed. Some functionality from the twitter package will not be available.\n",
            "  warnings.warn(\"The twython library has not been installed. \"\n"
          ],
          "name": "stderr"
        }
      ]
    },
    {
      "cell_type": "code",
      "metadata": {
        "id": "lgXs8vOEcykq",
        "colab": {
          "base_uri": "https://localhost:8080/",
          "height": 589
        },
        "outputId": "0a1c9b8f-6d90-4bdb-8af1-a9cf078766b0"
      },
      "source": [
        "def branded(name):\n",
        "  if name=='Unknown':\n",
        "    return 0\n",
        "  else:\n",
        "    return 1\n",
        "\n",
        "#train\n",
        "train['is_branded'] = train['brand_name'].apply(lambda x: branded(x))\n",
        "train\n",
        "#test\n",
        "test['is_branded'] = test['brand_name'].apply(lambda x: branded(x))\n",
        "test"
      ],
      "execution_count": 30,
      "outputs": [
        {
          "output_type": "execute_result",
          "data": {
            "text/html": [
              "<div>\n",
              "<style scoped>\n",
              "    .dataframe tbody tr th:only-of-type {\n",
              "        vertical-align: middle;\n",
              "    }\n",
              "\n",
              "    .dataframe tbody tr th {\n",
              "        vertical-align: top;\n",
              "    }\n",
              "\n",
              "    .dataframe thead th {\n",
              "        text-align: right;\n",
              "    }\n",
              "</style>\n",
              "<table border=\"1\" class=\"dataframe\">\n",
              "  <thead>\n",
              "    <tr style=\"text-align: right;\">\n",
              "      <th></th>\n",
              "      <th>test_id</th>\n",
              "      <th>name</th>\n",
              "      <th>item_condition_id</th>\n",
              "      <th>brand_name</th>\n",
              "      <th>shipping</th>\n",
              "      <th>item_description</th>\n",
              "      <th>main_category</th>\n",
              "      <th>subcat_1</th>\n",
              "      <th>subcat_2</th>\n",
              "      <th>description_wc</th>\n",
              "      <th>negative</th>\n",
              "      <th>neutral</th>\n",
              "      <th>positive</th>\n",
              "      <th>compound</th>\n",
              "      <th>is_branded</th>\n",
              "    </tr>\n",
              "  </thead>\n",
              "  <tbody>\n",
              "    <tr>\n",
              "      <th>0</th>\n",
              "      <td>0</td>\n",
              "      <td>breast cancer \"i fight like a girl\" ring</td>\n",
              "      <td>1</td>\n",
              "      <td>Unknown</td>\n",
              "      <td>1</td>\n",
              "      <td>size 7</td>\n",
              "      <td>women</td>\n",
              "      <td>jewelry</td>\n",
              "      <td>rings</td>\n",
              "      <td>2</td>\n",
              "      <td>0.0</td>\n",
              "      <td>100.0</td>\n",
              "      <td>0.0</td>\n",
              "      <td>0.00</td>\n",
              "      <td>0</td>\n",
              "    </tr>\n",
              "    <tr>\n",
              "      <th>1</th>\n",
              "      <td>1</td>\n",
              "      <td>25 pcs new 7.5\"x12\" kraft bubble mailers</td>\n",
              "      <td>1</td>\n",
              "      <td>Unknown</td>\n",
              "      <td>1</td>\n",
              "      <td>25 pcs new 7 5 x12 kraft bubble mailers lined ...</td>\n",
              "      <td>other</td>\n",
              "      <td>office supplies</td>\n",
              "      <td>shipping supplies</td>\n",
              "      <td>38</td>\n",
              "      <td>0.0</td>\n",
              "      <td>71.8</td>\n",
              "      <td>28.2</td>\n",
              "      <td>87.50</td>\n",
              "      <td>0</td>\n",
              "    </tr>\n",
              "    <tr>\n",
              "      <th>2</th>\n",
              "      <td>2</td>\n",
              "      <td>coach bag</td>\n",
              "      <td>1</td>\n",
              "      <td>coach</td>\n",
              "      <td>1</td>\n",
              "      <td>brand new coach bag bought coach outlet</td>\n",
              "      <td>vintage &amp; collectibles</td>\n",
              "      <td>bags and purses</td>\n",
              "      <td>handbag</td>\n",
              "      <td>11</td>\n",
              "      <td>0.0</td>\n",
              "      <td>100.0</td>\n",
              "      <td>0.0</td>\n",
              "      <td>0.00</td>\n",
              "      <td>1</td>\n",
              "    </tr>\n",
              "    <tr>\n",
              "      <th>3</th>\n",
              "      <td>3</td>\n",
              "      <td>floral kimono</td>\n",
              "      <td>2</td>\n",
              "      <td>Unknown</td>\n",
              "      <td>0</td>\n",
              "      <td>floral kimono never worn lightweight perfect h...</td>\n",
              "      <td>women</td>\n",
              "      <td>sweaters</td>\n",
              "      <td>cardigan</td>\n",
              "      <td>10</td>\n",
              "      <td>27.5</td>\n",
              "      <td>55.1</td>\n",
              "      <td>17.3</td>\n",
              "      <td>-27.55</td>\n",
              "      <td>0</td>\n",
              "    </tr>\n",
              "    <tr>\n",
              "      <th>4</th>\n",
              "      <td>4</td>\n",
              "      <td>life after death</td>\n",
              "      <td>3</td>\n",
              "      <td>Unknown</td>\n",
              "      <td>1</td>\n",
              "      <td>rediscovering life loss loved one tony cooke p...</td>\n",
              "      <td>other</td>\n",
              "      <td>books</td>\n",
              "      <td>religion &amp; spirituality</td>\n",
              "      <td>29</td>\n",
              "      <td>28.1</td>\n",
              "      <td>41.9</td>\n",
              "      <td>29.9</td>\n",
              "      <td>15.31</td>\n",
              "      <td>0</td>\n",
              "    </tr>\n",
              "    <tr>\n",
              "      <th>...</th>\n",
              "      <td>...</td>\n",
              "      <td>...</td>\n",
              "      <td>...</td>\n",
              "      <td>...</td>\n",
              "      <td>...</td>\n",
              "      <td>...</td>\n",
              "      <td>...</td>\n",
              "      <td>...</td>\n",
              "      <td>...</td>\n",
              "      <td>...</td>\n",
              "      <td>...</td>\n",
              "      <td>...</td>\n",
              "      <td>...</td>\n",
              "      <td>...</td>\n",
              "      <td>...</td>\n",
              "    </tr>\n",
              "    <tr>\n",
              "      <th>693354</th>\n",
              "      <td>693354</td>\n",
              "      <td>quartz crystal on flint stone</td>\n",
              "      <td>1</td>\n",
              "      <td>Unknown</td>\n",
              "      <td>0</td>\n",
              "      <td>flint quartz cluster self mined measures 3x2in...</td>\n",
              "      <td>home</td>\n",
              "      <td>home décor</td>\n",
              "      <td>home décor accents</td>\n",
              "      <td>38</td>\n",
              "      <td>0.0</td>\n",
              "      <td>76.9</td>\n",
              "      <td>23.1</td>\n",
              "      <td>74.30</td>\n",
              "      <td>0</td>\n",
              "    </tr>\n",
              "    <tr>\n",
              "      <th>693355</th>\n",
              "      <td>693355</td>\n",
              "      <td>it cosmetics - travel bundle</td>\n",
              "      <td>1</td>\n",
              "      <td>it cosmetics</td>\n",
              "      <td>1</td>\n",
              "      <td>cosmetics travel bundle includes brow power un...</td>\n",
              "      <td>beauty</td>\n",
              "      <td>makeup</td>\n",
              "      <td>makeup sets</td>\n",
              "      <td>176</td>\n",
              "      <td>3.2</td>\n",
              "      <td>72.9</td>\n",
              "      <td>23.9</td>\n",
              "      <td>96.86</td>\n",
              "      <td>1</td>\n",
              "    </tr>\n",
              "    <tr>\n",
              "      <th>693356</th>\n",
              "      <td>693356</td>\n",
              "      <td>galaxy s8 hard shell case</td>\n",
              "      <td>1</td>\n",
              "      <td>Unknown</td>\n",
              "      <td>1</td>\n",
              "      <td>new free shipping basstop case</td>\n",
              "      <td>electronics</td>\n",
              "      <td>cell phones &amp; accessories</td>\n",
              "      <td>cases, covers &amp; skins</td>\n",
              "      <td>5</td>\n",
              "      <td>0.0</td>\n",
              "      <td>54.8</td>\n",
              "      <td>45.2</td>\n",
              "      <td>51.06</td>\n",
              "      <td>0</td>\n",
              "    </tr>\n",
              "    <tr>\n",
              "      <th>693357</th>\n",
              "      <td>693357</td>\n",
              "      <td>hi low floral kimono</td>\n",
              "      <td>2</td>\n",
              "      <td>Unknown</td>\n",
              "      <td>0</td>\n",
              "      <td>floral kimono tropical print open front hi low...</td>\n",
              "      <td>women</td>\n",
              "      <td>swimwear</td>\n",
              "      <td>cover-ups</td>\n",
              "      <td>17</td>\n",
              "      <td>13.0</td>\n",
              "      <td>61.7</td>\n",
              "      <td>25.3</td>\n",
              "      <td>45.88</td>\n",
              "      <td>0</td>\n",
              "    </tr>\n",
              "    <tr>\n",
              "      <th>693358</th>\n",
              "      <td>693358</td>\n",
              "      <td>freeship 2 floral scrub tops, medium.</td>\n",
              "      <td>2</td>\n",
              "      <td>Unknown</td>\n",
              "      <td>1</td>\n",
              "      <td>2 floral scrub tops worn less 5 times brown be...</td>\n",
              "      <td>women</td>\n",
              "      <td>tops &amp; blouses</td>\n",
              "      <td>t-shirts</td>\n",
              "      <td>15</td>\n",
              "      <td>17.6</td>\n",
              "      <td>56.0</td>\n",
              "      <td>26.4</td>\n",
              "      <td>27.32</td>\n",
              "      <td>0</td>\n",
              "    </tr>\n",
              "  </tbody>\n",
              "</table>\n",
              "<p>693359 rows × 15 columns</p>\n",
              "</div>"
            ],
            "text/plain": [
              "        test_id                                      name  ...  compound is_branded\n",
              "0             0  breast cancer \"i fight like a girl\" ring  ...      0.00          0\n",
              "1             1  25 pcs new 7.5\"x12\" kraft bubble mailers  ...     87.50          0\n",
              "2             2                                 coach bag  ...      0.00          1\n",
              "3             3                             floral kimono  ...    -27.55          0\n",
              "4             4                          life after death  ...     15.31          0\n",
              "...         ...                                       ...  ...       ...        ...\n",
              "693354   693354             quartz crystal on flint stone  ...     74.30          0\n",
              "693355   693355              it cosmetics - travel bundle  ...     96.86          1\n",
              "693356   693356                 galaxy s8 hard shell case  ...     51.06          0\n",
              "693357   693357                      hi low floral kimono  ...     45.88          0\n",
              "693358   693358     freeship 2 floral scrub tops, medium.  ...     27.32          0\n",
              "\n",
              "[693359 rows x 15 columns]"
            ]
          },
          "metadata": {
            "tags": []
          },
          "execution_count": 30
        }
      ]
    },
    {
      "cell_type": "code",
      "metadata": {
        "id": "0udVkwpu5ZEh"
      },
      "source": [
        "# save the datasets to avoid full ram\n",
        "train.to_csv('train_2.tsv', sep = '\\t', na_rep='NaN')\n",
        "test.to_csv('test_2.tsv', sep = '\\t', na_rep='NaN')\n",
        "\n",
        "!cp train_2.tsv $base_dir\n",
        "!cp test_2.tsv $base_dir\n",
        "\n"
      ],
      "execution_count": 31,
      "outputs": []
    },
    {
      "cell_type": "code",
      "metadata": {
        "colab": {
          "base_uri": "https://localhost:8080/"
        },
        "id": "bJlycdtjSXoi",
        "outputId": "b9875289-070e-4143-aa05-7249d2bd671b"
      },
      "source": [
        "!ls $base_dir"
      ],
      "execution_count": 32,
      "outputs": [
        {
          "output_type": "stream",
          "text": [
            "test_2.tsv  test.tsv  train_2.tsv  train.tsv\n"
          ],
          "name": "stdout"
        }
      ]
    },
    {
      "cell_type": "code",
      "metadata": {
        "id": "jehBbMbbRTe-"
      },
      "source": [
        "# train2 = pd.read_csv(base_dir + 'train_2.tsv', sep = '\\t')\n",
        "# test2 = pd.read_csv(base_dir + 'test_2.tsv', sep = '\\t')"
      ],
      "execution_count": 33,
      "outputs": []
    },
    {
      "cell_type": "markdown",
      "metadata": {
        "id": "iyL5_2znoud2"
      },
      "source": [
        "Vectorization of Categorical Features"
      ]
    },
    {
      "cell_type": "code",
      "metadata": {
        "id": "PAGcpuvpn6Sf",
        "colab": {
          "base_uri": "https://localhost:8080/"
        },
        "outputId": "5780e2b9-fd89-4f1d-8b21-6b01b76c9798"
      },
      "source": [
        "from sklearn.feature_extraction.text import CountVectorizer\n",
        "def one_hot_encode(train,test):\n",
        "    '''\n",
        "    Function to one hot encode the categorical columns\n",
        "    '''\n",
        "    vectorizer = CountVectorizer(token_pattern='.+')\n",
        "    \n",
        "    #vectorizing the main_category column\n",
        "    vectorizer = vectorizer.fit(train['main_category']) # fit has to happen only on train data\n",
        "    bow_maincat_train = vectorizer.transform(train['main_category'])\n",
        "    bow_maincat_test = vectorizer.transform(test['main_category'])\n",
        "    \n",
        "    #vectorizing sub_cat_1 column\n",
        "    vectorizer = vectorizer.fit(train['subcat_1']) # fit has to happen only on train data\n",
        "    bow_subcat1_train = vectorizer.transform(train['subcat_1'])\n",
        "    bow_subcat1_test = vectorizer.transform(test['subcat_1'])\n",
        "\n",
        "    #vectorizing sub_cat_2 column\n",
        "    vectorizer = vectorizer.fit(train['subcat_2']) # fit has to happen only on train data\n",
        "    bow_subcat2_train = vectorizer.transform(train['subcat_2'])\n",
        "    bow_subcat2_test = vectorizer.transform(test['subcat_2'])\n",
        "\n",
        "    #vectorizing brand column\n",
        "    vectorizer = vectorizer.fit(train['brand_name'].astype(str)) # fit has to happen only on train data\n",
        "    bow_brandname_train = vectorizer.transform(train['brand_name'].astype(str))\n",
        "    bow_brandname_test = vectorizer.transform(test['brand_name'].astype(str))\n",
        "   \n",
        "    print(\"created OHE columns for main_category,sub_cat_1,sub_cat_2,brand_name\\n\")\n",
        "    return bow_maincat_train, bow_maincat_test, bow_subcat1_train, bow_subcat1_test, bow_subcat2_train, bow_subcat2_test, bow_brandname_train, bow_brandname_test\n",
        "\n",
        "bow_maincat_train, bow_maincat_test, bow_subcat1_train, bow_subcat1_test, bow_subcat2_train, bow_subcat2_test, bow_brandname_train, bow_brandname_test = one_hot_encode(train, test)\n"
      ],
      "execution_count": 34,
      "outputs": [
        {
          "output_type": "stream",
          "text": [
            "created OHE columns for main_category,sub_cat_1,sub_cat_2,brand_name\n",
            "\n"
          ],
          "name": "stdout"
        }
      ]
    },
    {
      "cell_type": "code",
      "metadata": {
        "id": "M34HgWioyzqe",
        "colab": {
          "base_uri": "https://localhost:8080/"
        },
        "outputId": "73b7f9a3-6683-4c2d-9cda-a00fa0d7670a"
      },
      "source": [
        "print(bow_maincat_train.shape)\n",
        "print(bow_maincat_test.shape)\n",
        "print(bow_subcat1_train.shape)\n",
        "print(bow_subcat1_test.shape)\n",
        "print(bow_subcat2_train.shape)\n",
        "print(bow_subcat2_test.shape)\n",
        "print(bow_brandname_train.shape)\n",
        "print(bow_brandname_test.shape)\n"
      ],
      "execution_count": 35,
      "outputs": [
        {
          "output_type": "stream",
          "text": [
            "(1481661, 11)\n",
            "(693359, 11)\n",
            "(1481661, 114)\n",
            "(693359, 114)\n",
            "(1481661, 870)\n",
            "(693359, 870)\n",
            "(1481661, 4808)\n",
            "(693359, 4808)\n"
          ],
          "name": "stdout"
        }
      ]
    },
    {
      "cell_type": "code",
      "metadata": {
        "id": "34u-AVEyAE45",
        "colab": {
          "base_uri": "https://localhost:8080/"
        },
        "outputId": "84f63ba7-c343-4df3-f79f-0554e78ed829"
      },
      "source": [
        "a = train.brand_name.unique()\n",
        "print(len(a))"
      ],
      "execution_count": 36,
      "outputs": [
        {
          "output_type": "stream",
          "text": [
            "4808\n"
          ],
          "name": "stdout"
        }
      ]
    },
    {
      "cell_type": "markdown",
      "metadata": {
        "id": "uSy037tbqB1Z"
      },
      "source": [
        "Vectorization of Textual Features"
      ]
    },
    {
      "cell_type": "code",
      "metadata": {
        "id": "9OSVTBP1qF4X"
      },
      "source": [
        "from sklearn.feature_extraction.text import TfidfVectorizer\n",
        "def vectorizer(train,test,column,no_of_features,n_range,vector_type):\n",
        "    '''\n",
        "    Function to vectorize text using TFIDF/BoW\n",
        "    '''\n",
        "    if str(vector_type) == 'bow':\n",
        "        vectorizer = CountVectorizer(ngram_range=n_range,max_features=no_of_features).fit(train[column])  #fitting\n",
        "    else:\n",
        "        vectorizer = TfidfVectorizer(ngram_range=n_range, min_df=10, max_features=no_of_features).fit(train[column]) # fit has to happen only on train data\n",
        "    \n",
        "    # we use the fitted vectorizer to convert the text to vector\n",
        "    transformed_text = vectorizer.transform((test[column]))\n",
        "    ###############################\n",
        "    print(\"After vectorizations\")\n",
        "    print(transformed_text.shape)\n",
        "    print(\"=\"*100)\n",
        "    return transformed_text"
      ],
      "execution_count": null,
      "outputs": []
    },
    {
      "cell_type": "code",
      "metadata": {
        "id": "mVjHw9gqsmX_",
        "colab": {
          "base_uri": "https://localhost:8080/"
        },
        "outputId": "6c999e07-d377-4b59-eb9e-ae56ada8aa5e"
      },
      "source": [
        "X_train_bow_name = vectorizer(train,train,'name',None,(1,1),'bow')\n",
        "X_test_bow_name = vectorizer(train,test,'name',None,(1,1),'bow')\n",
        "X_train_tfidf_desc = vectorizer(train,train,'item_description',10000,(1,3),'tfidf')\n",
        "X_test_tfidf_desc = vectorizer(train,test,'item_description',10000,(1,3),'tfidf')"
      ],
      "execution_count": 38,
      "outputs": [
        {
          "output_type": "stream",
          "text": [
            "After vectorizations\n",
            "(1481661, 105723)\n",
            "====================================================================================================\n",
            "After vectorizations\n",
            "(693359, 105723)\n",
            "====================================================================================================\n",
            "After vectorizations\n",
            "(1481661, 10000)\n",
            "====================================================================================================\n",
            "After vectorizations\n",
            "(693359, 10000)\n",
            "====================================================================================================\n"
          ],
          "name": "stdout"
        }
      ]
    },
    {
      "cell_type": "code",
      "metadata": {
        "id": "sKRt_TqPMh_5",
        "colab": {
          "base_uri": "https://localhost:8080/"
        },
        "outputId": "2c8bbb6d-75be-4d95-b7a9-037be65e2a27"
      },
      "source": [
        "\n",
        "print(\"ciao\")"
      ],
      "execution_count": 39,
      "outputs": [
        {
          "output_type": "stream",
          "text": [
            "ciao\n"
          ],
          "name": "stdout"
        }
      ]
    },
    {
      "cell_type": "markdown",
      "metadata": {
        "id": "PopRUcctqQ2b"
      },
      "source": [
        "Handling Numerical Features"
      ]
    },
    {
      "cell_type": "code",
      "metadata": {
        "id": "du7sy5ZgqT5T"
      },
      "source": [
        "from sklearn.preprocessing import Normalizer\n",
        "normalizer=Normalizer().fit(np.array(train['positive']).reshape(-1,1))\n",
        "positive_train=normalizer.transform(np.array(train['positive']).reshape(-1,1))\n",
        "positive_test=normalizer.transform(np.array(test['positive']).reshape(-1,1))\n",
        "\n",
        "normalizer=Normalizer().fit(np.array(train['negative']).reshape(-1,1))\n",
        "negative_train=normalizer.transform(np.array(train['negative']).reshape(-1,1))\n",
        "negative_test=normalizer.transform(np.array(test['negative']).reshape(-1,1))\n",
        "\n",
        "normalizer=Normalizer().fit(np.array(train['neutral']).reshape(-1,1))\n",
        "neutral_train=normalizer.transform(np.array(train['neutral']).reshape(-1,1))\n",
        "neutral_test=normalizer.transform(np.array(test['neutral']).reshape(-1,1))\n",
        "\n",
        "normalizer=Normalizer().fit(np.array(train['compound']).reshape(-1,1))\n",
        "compound_train=normalizer.transform(np.array(train['compound']).reshape(-1,1))\n",
        "compound_test=normalizer.transform(np.array(test['compound']).reshape(-1,1))\n",
        "\n",
        "normalizer=Normalizer().fit(np.array(train['description_wc']).reshape(-1,1))\n",
        "wc_train=normalizer.transform(np.array(train['description_wc']).reshape(-1,1))\n",
        "wc_test=normalizer.transform(np.array(test['description_wc']).reshape(-1,1))\n",
        "### da fare su attributi numerici"
      ],
      "execution_count": 45,
      "outputs": []
    },
    {
      "cell_type": "markdown",
      "metadata": {
        "id": "VGXt3_oYuzv2"
      },
      "source": [
        "Binary Features & item_condition_id"
      ]
    },
    {
      "cell_type": "code",
      "metadata": {
        "id": "BsZJdcPWu2Tp"
      },
      "source": [
        "from scipy.sparse import csr_matrix\n",
        "features_train = csr_matrix(pd.get_dummies(train[['item_condition_id', 'shipping', 'is_branded']]))\n",
        "features_test = csr_matrix(pd.get_dummies(test[['item_condition_id', 'shipping', 'is_branded']]))"
      ],
      "execution_count": 46,
      "outputs": []
    },
    {
      "cell_type": "code",
      "metadata": {
        "id": "1zUco_6dTyxr",
        "colab": {
          "base_uri": "https://localhost:8080/",
          "height": 657
        },
        "outputId": "10c64399-08dd-484c-a191-b00d6c725189"
      },
      "source": [
        "train"
      ],
      "execution_count": 42,
      "outputs": [
        {
          "output_type": "execute_result",
          "data": {
            "text/html": [
              "<div>\n",
              "<style scoped>\n",
              "    .dataframe tbody tr th:only-of-type {\n",
              "        vertical-align: middle;\n",
              "    }\n",
              "\n",
              "    .dataframe tbody tr th {\n",
              "        vertical-align: top;\n",
              "    }\n",
              "\n",
              "    .dataframe thead th {\n",
              "        text-align: right;\n",
              "    }\n",
              "</style>\n",
              "<table border=\"1\" class=\"dataframe\">\n",
              "  <thead>\n",
              "    <tr style=\"text-align: right;\">\n",
              "      <th></th>\n",
              "      <th>train_id</th>\n",
              "      <th>name</th>\n",
              "      <th>item_condition_id</th>\n",
              "      <th>brand_name</th>\n",
              "      <th>price</th>\n",
              "      <th>shipping</th>\n",
              "      <th>item_description</th>\n",
              "      <th>main_category</th>\n",
              "      <th>subcat_1</th>\n",
              "      <th>subcat_2</th>\n",
              "      <th>description_wc</th>\n",
              "      <th>negative</th>\n",
              "      <th>neutral</th>\n",
              "      <th>positive</th>\n",
              "      <th>compound</th>\n",
              "      <th>is_branded</th>\n",
              "    </tr>\n",
              "  </thead>\n",
              "  <tbody>\n",
              "    <tr>\n",
              "      <th>0</th>\n",
              "      <td>0</td>\n",
              "      <td>mlb cincinnati reds t shirt size xl</td>\n",
              "      <td>3</td>\n",
              "      <td>Unknown</td>\n",
              "      <td>2.397895</td>\n",
              "      <td>1</td>\n",
              "      <td>description yet</td>\n",
              "      <td>men</td>\n",
              "      <td>tops</td>\n",
              "      <td>t-shirts</td>\n",
              "      <td>3</td>\n",
              "      <td>0.0</td>\n",
              "      <td>100.0</td>\n",
              "      <td>0.0</td>\n",
              "      <td>0.00</td>\n",
              "      <td>0</td>\n",
              "    </tr>\n",
              "    <tr>\n",
              "      <th>1</th>\n",
              "      <td>1</td>\n",
              "      <td>razer blackwidow chroma keyboard</td>\n",
              "      <td>3</td>\n",
              "      <td>razer</td>\n",
              "      <td>3.970292</td>\n",
              "      <td>0</td>\n",
              "      <td>keyboard great condition works like came box p...</td>\n",
              "      <td>electronics</td>\n",
              "      <td>computers &amp; tablets</td>\n",
              "      <td>components &amp; parts</td>\n",
              "      <td>36</td>\n",
              "      <td>0.0</td>\n",
              "      <td>58.1</td>\n",
              "      <td>41.9</td>\n",
              "      <td>89.57</td>\n",
              "      <td>1</td>\n",
              "    </tr>\n",
              "    <tr>\n",
              "      <th>2</th>\n",
              "      <td>2</td>\n",
              "      <td>ava-viv blouse</td>\n",
              "      <td>1</td>\n",
              "      <td>target</td>\n",
              "      <td>2.397895</td>\n",
              "      <td>1</td>\n",
              "      <td>adorable top hint lace key hole back pale pink...</td>\n",
              "      <td>women</td>\n",
              "      <td>tops &amp; blouses</td>\n",
              "      <td>blouse</td>\n",
              "      <td>29</td>\n",
              "      <td>0.0</td>\n",
              "      <td>70.6</td>\n",
              "      <td>29.4</td>\n",
              "      <td>61.24</td>\n",
              "      <td>1</td>\n",
              "    </tr>\n",
              "    <tr>\n",
              "      <th>3</th>\n",
              "      <td>3</td>\n",
              "      <td>leather horse statues</td>\n",
              "      <td>1</td>\n",
              "      <td>Unknown</td>\n",
              "      <td>3.583519</td>\n",
              "      <td>1</td>\n",
              "      <td>new tags leather horses retail stand foot high...</td>\n",
              "      <td>home</td>\n",
              "      <td>home décor</td>\n",
              "      <td>home décor accents</td>\n",
              "      <td>32</td>\n",
              "      <td>0.0</td>\n",
              "      <td>72.8</td>\n",
              "      <td>27.2</td>\n",
              "      <td>68.08</td>\n",
              "      <td>0</td>\n",
              "    </tr>\n",
              "    <tr>\n",
              "      <th>4</th>\n",
              "      <td>4</td>\n",
              "      <td>24k gold plated rose</td>\n",
              "      <td>1</td>\n",
              "      <td>Unknown</td>\n",
              "      <td>3.806662</td>\n",
              "      <td>0</td>\n",
              "      <td>complete certificate authenticity</td>\n",
              "      <td>women</td>\n",
              "      <td>jewelry</td>\n",
              "      <td>necklaces</td>\n",
              "      <td>5</td>\n",
              "      <td>0.0</td>\n",
              "      <td>100.0</td>\n",
              "      <td>0.0</td>\n",
              "      <td>0.00</td>\n",
              "      <td>0</td>\n",
              "    </tr>\n",
              "    <tr>\n",
              "      <th>...</th>\n",
              "      <td>...</td>\n",
              "      <td>...</td>\n",
              "      <td>...</td>\n",
              "      <td>...</td>\n",
              "      <td>...</td>\n",
              "      <td>...</td>\n",
              "      <td>...</td>\n",
              "      <td>...</td>\n",
              "      <td>...</td>\n",
              "      <td>...</td>\n",
              "      <td>...</td>\n",
              "      <td>...</td>\n",
              "      <td>...</td>\n",
              "      <td>...</td>\n",
              "      <td>...</td>\n",
              "      <td>...</td>\n",
              "    </tr>\n",
              "    <tr>\n",
              "      <th>1481656</th>\n",
              "      <td>1482530</td>\n",
              "      <td>free people inspired dress</td>\n",
              "      <td>2</td>\n",
              "      <td>free people</td>\n",
              "      <td>3.044522</td>\n",
              "      <td>1</td>\n",
              "      <td>lace says size small fits medium perfectly nev...</td>\n",
              "      <td>women</td>\n",
              "      <td>dresses</td>\n",
              "      <td>mid-calf</td>\n",
              "      <td>22</td>\n",
              "      <td>22.4</td>\n",
              "      <td>47.8</td>\n",
              "      <td>29.8</td>\n",
              "      <td>43.56</td>\n",
              "      <td>1</td>\n",
              "    </tr>\n",
              "    <tr>\n",
              "      <th>1481657</th>\n",
              "      <td>1482531</td>\n",
              "      <td>little mermaid handmade dress</td>\n",
              "      <td>2</td>\n",
              "      <td>disney</td>\n",
              "      <td>2.708050</td>\n",
              "      <td>0</td>\n",
              "      <td>little mermaid handmade dress never worn size 2t</td>\n",
              "      <td>kids</td>\n",
              "      <td>girls 2t-5t</td>\n",
              "      <td>dresses</td>\n",
              "      <td>8</td>\n",
              "      <td>0.0</td>\n",
              "      <td>78.8</td>\n",
              "      <td>21.2</td>\n",
              "      <td>22.35</td>\n",
              "      <td>1</td>\n",
              "    </tr>\n",
              "    <tr>\n",
              "      <th>1481658</th>\n",
              "      <td>1482532</td>\n",
              "      <td>21 day fix containers and eating plan</td>\n",
              "      <td>2</td>\n",
              "      <td>Unknown</td>\n",
              "      <td>2.564949</td>\n",
              "      <td>0</td>\n",
              "      <td>used twice still great shape</td>\n",
              "      <td>sports &amp; outdoors</td>\n",
              "      <td>exercise</td>\n",
              "      <td>fitness accessories</td>\n",
              "      <td>8</td>\n",
              "      <td>0.0</td>\n",
              "      <td>49.4</td>\n",
              "      <td>50.6</td>\n",
              "      <td>62.49</td>\n",
              "      <td>0</td>\n",
              "    </tr>\n",
              "    <tr>\n",
              "      <th>1481659</th>\n",
              "      <td>1482533</td>\n",
              "      <td>world markets lanterns</td>\n",
              "      <td>3</td>\n",
              "      <td>Unknown</td>\n",
              "      <td>3.828641</td>\n",
              "      <td>1</td>\n",
              "      <td>2 one see 2 red 2 orange 2 big red orange ones...</td>\n",
              "      <td>home</td>\n",
              "      <td>home décor</td>\n",
              "      <td>home décor accents</td>\n",
              "      <td>28</td>\n",
              "      <td>0.0</td>\n",
              "      <td>100.0</td>\n",
              "      <td>0.0</td>\n",
              "      <td>0.00</td>\n",
              "      <td>0</td>\n",
              "    </tr>\n",
              "    <tr>\n",
              "      <th>1481660</th>\n",
              "      <td>1482534</td>\n",
              "      <td>brand new lux de ville wallet</td>\n",
              "      <td>1</td>\n",
              "      <td>Unknown</td>\n",
              "      <td>3.135494</td>\n",
              "      <td>0</td>\n",
              "      <td>new tag red sparkle firm price free shipping</td>\n",
              "      <td>women</td>\n",
              "      <td>women's accessories</td>\n",
              "      <td>wallets</td>\n",
              "      <td>11</td>\n",
              "      <td>0.0</td>\n",
              "      <td>49.6</td>\n",
              "      <td>50.4</td>\n",
              "      <td>72.69</td>\n",
              "      <td>0</td>\n",
              "    </tr>\n",
              "  </tbody>\n",
              "</table>\n",
              "<p>1481661 rows × 16 columns</p>\n",
              "</div>"
            ],
            "text/plain": [
              "         train_id                                   name  ...  compound is_branded\n",
              "0               0    mlb cincinnati reds t shirt size xl  ...      0.00          0\n",
              "1               1       razer blackwidow chroma keyboard  ...     89.57          1\n",
              "2               2                         ava-viv blouse  ...     61.24          1\n",
              "3               3                  leather horse statues  ...     68.08          0\n",
              "4               4                   24k gold plated rose  ...      0.00          0\n",
              "...           ...                                    ...  ...       ...        ...\n",
              "1481656   1482530             free people inspired dress  ...     43.56          1\n",
              "1481657   1482531          little mermaid handmade dress  ...     22.35          1\n",
              "1481658   1482532  21 day fix containers and eating plan  ...     62.49          0\n",
              "1481659   1482533                 world markets lanterns  ...      0.00          0\n",
              "1481660   1482534          brand new lux de ville wallet  ...     72.69          0\n",
              "\n",
              "[1481661 rows x 16 columns]"
            ]
          },
          "metadata": {
            "tags": []
          },
          "execution_count": 42
        }
      ]
    },
    {
      "cell_type": "code",
      "metadata": {
        "id": "6AxzIgxdWL-g",
        "colab": {
          "base_uri": "https://localhost:8080/"
        },
        "outputId": "7d36cc14-260b-4a0b-8037-6bcc210c2875"
      },
      "source": [
        "from scipy.sparse import csr_matrix\n",
        "csr_matrix(positive_train)\n"
      ],
      "execution_count": 47,
      "outputs": [
        {
          "output_type": "execute_result",
          "data": {
            "text/plain": [
              "<1481661x1 sparse matrix of type '<class 'numpy.float64'>'\n",
              "\twith 950878 stored elements in Compressed Sparse Row format>"
            ]
          },
          "metadata": {
            "tags": []
          },
          "execution_count": 47
        }
      ]
    },
    {
      "cell_type": "markdown",
      "metadata": {
        "id": "YRqII4eWsx6D"
      },
      "source": [
        "feature matrix"
      ]
    },
    {
      "cell_type": "code",
      "metadata": {
        "colab": {
          "base_uri": "https://localhost:8080/"
        },
        "id": "N6fJ0IGoffNu",
        "outputId": "a67a9242-e3e2-4a20-e8c2-05d08274f82a"
      },
      "source": [
        "X_train_bow_name"
      ],
      "execution_count": 72,
      "outputs": [
        {
          "output_type": "execute_result",
          "data": {
            "text/plain": [
              "<1481661x105723 sparse matrix of type '<class 'numpy.int64'>'\n",
              "\twith 6232124 stored elements in Compressed Sparse Row format>"
            ]
          },
          "metadata": {
            "tags": []
          },
          "execution_count": 72
        }
      ]
    },
    {
      "cell_type": "code",
      "metadata": {
        "id": "o247Z_gJszD7",
        "colab": {
          "base_uri": "https://localhost:8080/",
          "height": 248
        },
        "outputId": "d418fa50-d5e8-4849-b220-b26ef56faced"
      },
      "source": [
        "from numpy import hstack\n",
        "x_train_set = hstack((X_train_bow_name, X_train_tfidf_desc, bow_maincat_train, bow_subcat1_train, bow_subcat2_train, bow_brandname_train, csr_matrix(wc_train), features_train, csr_matrix(positive_train), csr_matrix(negative_train), csr_matrix(compound_train), csr_matrix(neutral_train))).tocsr()\n",
        "# x_test_set = hstack((X_test_bow_name, X_test_tfidf_desc, bow_maincat_test, bow_subcat1_test, bow_subcat2_test, bow_brandname_test, csr_matrix(wc_test), features_test, csr_matrix(positive_test), csr_matrix(negative_test), csr_matrix(compound_test), csr_matrix(neutral_test)))"
      ],
      "execution_count": 74,
      "outputs": [
        {
          "output_type": "error",
          "ename": "AttributeError",
          "evalue": "ignored",
          "traceback": [
            "\u001b[0;31m---------------------------------------------------------------------------\u001b[0m",
            "\u001b[0;31mAttributeError\u001b[0m                            Traceback (most recent call last)",
            "\u001b[0;32m<ipython-input-74-ba91cc4d8cfc>\u001b[0m in \u001b[0;36m<module>\u001b[0;34m()\u001b[0m\n\u001b[1;32m      1\u001b[0m \u001b[0;32mfrom\u001b[0m \u001b[0mnumpy\u001b[0m \u001b[0;32mimport\u001b[0m \u001b[0mhstack\u001b[0m\u001b[0;34m\u001b[0m\u001b[0;34m\u001b[0m\u001b[0m\n\u001b[1;32m      2\u001b[0m \u001b[0;32mimport\u001b[0m \u001b[0mscipy\u001b[0m\u001b[0;34m.\u001b[0m\u001b[0msparse\u001b[0m\u001b[0;34m\u001b[0m\u001b[0;34m\u001b[0m\u001b[0m\n\u001b[0;32m----> 3\u001b[0;31m \u001b[0mx_train_set\u001b[0m \u001b[0;34m=\u001b[0m \u001b[0mhstack\u001b[0m\u001b[0;34m(\u001b[0m\u001b[0;34m(\u001b[0m\u001b[0mX_train_bow_name\u001b[0m\u001b[0;34m,\u001b[0m \u001b[0mX_train_tfidf_desc\u001b[0m\u001b[0;34m,\u001b[0m \u001b[0mbow_maincat_train\u001b[0m\u001b[0;34m,\u001b[0m \u001b[0mbow_subcat1_train\u001b[0m\u001b[0;34m,\u001b[0m \u001b[0mbow_subcat2_train\u001b[0m\u001b[0;34m,\u001b[0m \u001b[0mbow_brandname_train\u001b[0m\u001b[0;34m,\u001b[0m \u001b[0mcsr_matrix\u001b[0m\u001b[0;34m(\u001b[0m\u001b[0mwc_train\u001b[0m\u001b[0;34m)\u001b[0m\u001b[0;34m,\u001b[0m \u001b[0mfeatures_train\u001b[0m\u001b[0;34m,\u001b[0m \u001b[0mcsr_matrix\u001b[0m\u001b[0;34m(\u001b[0m\u001b[0mpositive_train\u001b[0m\u001b[0;34m)\u001b[0m\u001b[0;34m,\u001b[0m \u001b[0mcsr_matrix\u001b[0m\u001b[0;34m(\u001b[0m\u001b[0mnegative_train\u001b[0m\u001b[0;34m)\u001b[0m\u001b[0;34m,\u001b[0m \u001b[0mcsr_matrix\u001b[0m\u001b[0;34m(\u001b[0m\u001b[0mcompound_train\u001b[0m\u001b[0;34m)\u001b[0m\u001b[0;34m,\u001b[0m \u001b[0mcsr_matrix\u001b[0m\u001b[0;34m(\u001b[0m\u001b[0mneutral_train\u001b[0m\u001b[0;34m)\u001b[0m\u001b[0;34m)\u001b[0m\u001b[0;34m)\u001b[0m\u001b[0;34m.\u001b[0m\u001b[0mtocsr\u001b[0m\u001b[0;34m(\u001b[0m\u001b[0;34m)\u001b[0m\u001b[0;34m\u001b[0m\u001b[0;34m\u001b[0m\u001b[0m\n\u001b[0m\u001b[1;32m      4\u001b[0m \u001b[0;31m# x_test_set = hstack((X_test_bow_name, X_test_tfidf_desc, bow_maincat_test, bow_subcat1_test, bow_subcat2_test, bow_brandname_test, csr_matrix(wc_test), features_test, csr_matrix(positive_test), csr_matrix(negative_test), csr_matrix(compound_test), csr_matrix(neutral_test)))\u001b[0m\u001b[0;34m\u001b[0m\u001b[0;34m\u001b[0m\u001b[0;34m\u001b[0m\u001b[0m\n",
            "\u001b[0;31mAttributeError\u001b[0m: 'numpy.ndarray' object has no attribute 'tocsr'"
          ]
        }
      ]
    },
    {
      "cell_type": "code",
      "metadata": {
        "id": "RgAy1nLlas4b",
        "colab": {
          "base_uri": "https://localhost:8080/"
        },
        "outputId": "284814bd-ff5d-44f4-c7b4-c452aae72077"
      },
      "source": [
        "x_train_set.reshape(x_train_set.shape[0], -1)"
      ],
      "execution_count": 67,
      "outputs": [
        {
          "output_type": "execute_result",
          "data": {
            "text/plain": [
              "array([[<1481661x105723 sparse matrix of type '<class 'numpy.int64'>'\n",
              "\twith 6232124 stored elements in Compressed Sparse Row format>],\n",
              "       [<1481661x10000 sparse matrix of type '<class 'numpy.float64'>'\n",
              "\twith 27925119 stored elements in Compressed Sparse Row format>],\n",
              "       [<1481661x11 sparse matrix of type '<class 'numpy.int64'>'\n",
              "\twith 1481661 stored elements in Compressed Sparse Row format>],\n",
              "       [<1481661x114 sparse matrix of type '<class 'numpy.int64'>'\n",
              "\twith 1481661 stored elements in Compressed Sparse Row format>],\n",
              "       [<1481661x870 sparse matrix of type '<class 'numpy.int64'>'\n",
              "\twith 1481661 stored elements in Compressed Sparse Row format>],\n",
              "       [<1481661x4808 sparse matrix of type '<class 'numpy.int64'>'\n",
              "\twith 1481661 stored elements in Compressed Sparse Row format>],\n",
              "       [<1481661x1 sparse matrix of type '<class 'numpy.float64'>'\n",
              "\twith 1481661 stored elements in Compressed Sparse Row format>],\n",
              "       [<1481661x3 sparse matrix of type '<class 'numpy.longlong'>'\n",
              "\twith 2993771 stored elements in Compressed Sparse Row format>],\n",
              "       [<1481661x1 sparse matrix of type '<class 'numpy.float64'>'\n",
              "\twith 950878 stored elements in Compressed Sparse Row format>],\n",
              "       [<1481661x1 sparse matrix of type '<class 'numpy.float64'>'\n",
              "\twith 377052 stored elements in Compressed Sparse Row format>],\n",
              "       [<1481661x1 sparse matrix of type '<class 'numpy.float64'>'\n",
              "\twith 1020020 stored elements in Compressed Sparse Row format>],\n",
              "       [<1481661x1 sparse matrix of type '<class 'numpy.float64'>'\n",
              "\twith 1477043 stored elements in Compressed Sparse Row format>]],\n",
              "      dtype=object)"
            ]
          },
          "metadata": {
            "tags": []
          },
          "execution_count": 67
        }
      ]
    }
  ]
}